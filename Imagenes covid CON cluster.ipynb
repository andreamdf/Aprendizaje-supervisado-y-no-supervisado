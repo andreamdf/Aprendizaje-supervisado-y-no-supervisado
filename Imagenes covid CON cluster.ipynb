{
 "cells": [
  {
   "cell_type": "markdown",
   "id": "4df50247-0a26-4242-a6f7-075ac8f5aefb",
   "metadata": {},
   "source": [
    "\n",
    "# 1.-Datos Covid con cluster"
   ]
  },
  {
   "cell_type": "code",
   "execution_count": 1,
   "id": "58d7c8c5",
   "metadata": {},
   "outputs": [
    {
     "name": "stdout",
     "output_type": "stream",
     "text": [
      "Once deleted, variables cannot be recovered. Proceed (y/[n])? y\n"
     ]
    }
   ],
   "source": [
    "%reset"
   ]
  },
  {
   "cell_type": "code",
   "execution_count": 2,
   "id": "80729943-c67c-4005-b55f-58d1c114652a",
   "metadata": {},
   "outputs": [],
   "source": [
    "\n",
    "import pandas as pd\n",
    "from sklearn import svm\n",
    "from sklearn.model_selection import GridSearchCV\n",
    "import os\n",
    "import matplotlib.pyplot as plt\n",
    "from skimage.transform import resize\n",
    "from skimage.io import imread\n",
    "import numpy as np\n",
    "from sklearn.model_selection import train_test_split\n",
    "from sklearn.metrics import classification_report,accuracy_score,confusion_matrix\n",
    "import pickle\n"
   ]
  },
  {
   "cell_type": "code",
   "execution_count": 3,
   "id": "6e04fb3f-3af1-4068-9875-7a060cfb3960",
   "metadata": {},
   "outputs": [
    {
     "name": "stdout",
     "output_type": "stream",
     "text": [
      "Type y to give categories or type n to go with classification of Cars,Ice Cream cone and Cricket ball\n"
     ]
    }
   ],
   "source": [
    "Categories=['Otras causas','COVID-19']\n",
    "print(\"Type y to give categories or type n to go with classification of Cars,Ice Cream cone and Cricket ball\");\n"
   ]
  },
  {
   "cell_type": "markdown",
   "id": "01f9de0c",
   "metadata": {},
   "source": [
    "Cargamos los datos"
   ]
  },
  {
   "cell_type": "code",
   "execution_count": 4,
   "id": "450e1a0b-1ec6-4adb-ae18-8eef496f57f8",
   "metadata": {},
   "outputs": [],
   "source": [
    "import random\n",
    "\n",
    "# Establecer la semilla\n",
    "random.seed(42)"
   ]
  },
  {
   "cell_type": "code",
   "execution_count": 5,
   "id": "334d9a9e",
   "metadata": {},
   "outputs": [
    {
     "name": "stdout",
     "output_type": "stream",
     "text": [
      "Cargando... categoría: Otras causas\n",
      "Categoría cargada correctamente: Otras causas\n",
      "Cargando... categoría: COVID-19\n",
      "Categoría cargada correctamente: COVID-19\n"
     ]
    }
   ],
   "source": [
    "import os\n",
    "import numpy as np\n",
    "from skimage.io import imread\n",
    "from skimage.transform import resize\n",
    "\n",
    "flat_data_arr = []\n",
    "target_arr = []\n",
    "image_names_arr = []  \n",
    "# Por favor, utiliza datadir='/content' si los archivos se cargan en Google Colab\n",
    "# De lo contrario, monta la unidad y proporciona la ruta del directorio principal que contiene todas las carpetas de imágenes de categoría.\n",
    "datadir = r'C:\\Users\\andre\\Desktop\\images\\carpeta_otras'\n",
    "\n",
    "# Iterar sobre las categorías\n",
    "for i in Categories:\n",
    "    print(f'Cargando... categoría: {i}')\n",
    "    path = os.path.join(datadir, i)\n",
    "    images_in_category = os.listdir(path)\n",
    "    # Seleccionar solo el 10% de las imágenes en la categoría actual\n",
    "    num_images_to_select = int(1 * len(images_in_category))\n",
    "    selected_images = np.random.choice(images_in_category, num_images_to_select, replace=False)\n",
    "\n",
    "    for img in selected_images:\n",
    "        img_array = imread(os.path.join(path, img))\n",
    "        img_resized = resize(img_array, (60, 60, 3))\n",
    "        flat_data_arr.append(img_resized)\n",
    "        target_arr.append(Categories.index(i))\n",
    "        image_names_arr.append(img)  # Guardar el nombre de la imagen\n",
    "    print(f'Categoría cargada correctamente: {i}')\n",
    "\n",
    "flat_data = np.array(flat_data_arr)\n",
    "target = np.array(target_arr)\n",
    "\n"
   ]
  },
  {
   "cell_type": "code",
   "execution_count": 6,
   "id": "6a551178",
   "metadata": {},
   "outputs": [
    {
     "data": {
      "text/plain": [
       "array([0, 0, 0, 0, 0, 0, 0, 0, 0, 0, 0, 0, 0, 0, 0, 0, 0, 0, 0, 0, 0, 0,\n",
       "       0, 0, 0, 0, 0, 0, 0, 0, 0, 0, 0, 0, 0, 0, 0, 0, 0, 0, 0, 0, 0, 0,\n",
       "       0, 0, 0, 0, 0, 0, 0, 0, 0, 0, 0, 0, 0, 0, 0, 0, 0, 0, 0, 0, 0, 0,\n",
       "       0, 0, 0, 0, 0, 0, 0, 0, 0, 0, 0, 0, 0, 0, 0, 0, 0, 0, 0, 0, 0, 0,\n",
       "       0, 0, 0, 0, 0, 0, 0, 0, 0, 0, 0, 0, 0, 0, 0, 0, 0, 0, 0, 0, 0, 0,\n",
       "       0, 0, 0, 0, 0, 0, 0, 0, 0, 0, 0, 0, 0, 0, 0, 0, 0, 0, 0, 0, 0, 0,\n",
       "       0, 0, 0, 0, 0, 0, 0, 0, 0, 1, 1, 1, 1, 1, 1, 1, 1, 1, 1, 1, 1, 1,\n",
       "       1, 1, 1, 1, 1, 1, 1, 1, 1, 1, 1, 1, 1, 1, 1, 1, 1, 1, 1, 1, 1, 1,\n",
       "       1, 1, 1, 1, 1, 1, 1, 1, 1, 1, 1, 1, 1, 1, 1, 1, 1, 1, 1, 1, 1, 1,\n",
       "       1, 1, 1, 1, 1, 1, 1, 1, 1, 1, 1, 1, 1, 1, 1, 1, 1, 1, 1, 1, 1, 1,\n",
       "       1, 1, 1, 1, 1, 1, 1, 1, 1, 1, 1, 1, 1, 1, 1, 1, 1, 1, 1, 1, 1, 1,\n",
       "       1, 1, 1, 1, 1, 1, 1, 1, 1, 1, 1, 1, 1, 1, 1, 1, 1, 1, 1, 1, 1, 1,\n",
       "       1, 1, 1, 1, 1, 1, 1, 1, 1, 1, 1, 1, 1, 1, 1, 1, 1, 1, 1, 1, 1, 1,\n",
       "       1, 1, 1, 1, 1, 1, 1, 1, 1, 1, 1, 1, 1, 1, 1, 1, 1, 1, 1, 1, 1, 1,\n",
       "       1, 1, 1, 1, 1, 1, 1, 1, 1, 1, 1, 1, 1, 1, 1, 1, 1, 1, 1, 1, 1, 1,\n",
       "       1, 1, 1, 1, 1, 1, 1, 1, 1, 1, 1, 1, 1, 1, 1, 1, 1, 1, 1, 1, 1, 1,\n",
       "       1, 1, 1, 1, 1, 1, 1, 1, 1, 1, 1, 1, 1, 1, 1, 1, 1, 1, 1, 1, 1, 1,\n",
       "       1, 1, 1, 1, 1, 1, 1, 1, 1, 1, 1, 1, 1, 1, 1, 1, 1, 1, 1, 1, 1, 1,\n",
       "       1, 1, 1, 1, 1, 1, 1, 1, 1, 1, 1, 1, 1, 1, 1, 1, 1, 1, 1, 1, 1, 1,\n",
       "       1, 1, 1, 1, 1, 1, 1, 1, 1, 1, 1, 1, 1, 1, 1, 1, 1, 1, 1, 1, 1, 1,\n",
       "       1, 1, 1, 1, 1, 1, 1, 1, 1, 1, 1, 1, 1, 1, 1, 1, 1, 1, 1])"
      ]
     },
     "execution_count": 6,
     "metadata": {},
     "output_type": "execute_result"
    }
   ],
   "source": [
    "target"
   ]
  },
  {
   "cell_type": "code",
   "execution_count": 7,
   "id": "8ae503a2",
   "metadata": {},
   "outputs": [
    {
     "name": "stdout",
     "output_type": "stream",
     "text": [
      "Media de los datos: 0.5506352710065\n",
      "Desviación estándar de los datos: 0.24699215374068795\n"
     ]
    }
   ],
   "source": [
    "import numpy as np\n",
    "\n",
    "# Calcula la media y la desviación estándar de flat_data\n",
    "mean_value = np.mean(flat_data)\n",
    "std_value = np.std(flat_data)\n",
    "\n",
    "print(\"Media de los datos:\", mean_value)\n",
    "print(\"Desviación estándar de los datos:\", std_value)\n"
   ]
  },
  {
   "cell_type": "code",
   "execution_count": 8,
   "id": "f76d6496",
   "metadata": {},
   "outputs": [],
   "source": [
    "max_value = np.max(flat_data)\n",
    "min_value = np.min(flat_data)"
   ]
  },
  {
   "cell_type": "code",
   "execution_count": 9,
   "id": "625b6c60",
   "metadata": {},
   "outputs": [
    {
     "name": "stdout",
     "output_type": "stream",
     "text": [
      "1.0\n",
      "0.0\n"
     ]
    }
   ],
   "source": [
    "print(max_value )\n",
    "print(min_value )"
   ]
  },
  {
   "cell_type": "code",
   "execution_count": 10,
   "id": "be791cad-643f-4783-b7da-f5011bedc1a0",
   "metadata": {},
   "outputs": [
    {
     "data": {
      "image/png": "[encoded data removed]",
      "text/plain": [
       "<Figure size 640x480 with 1 Axes>"
      ]
     },
     "metadata": {},
     "output_type": "display_data"
    }
   ],
   "source": [
    "import seaborn as sns\n",
    "import matplotlib.colors as mcolors\n",
    "import matplotlib.pyplot as plt\n",
    "\n",
    "# Supongamos que 'target' es tu variable de destino\n",
    "colores = ['#73A4CA', '#91DCEA', '#64CDCC', '#5FBB68', '#F9D23C', '#F9A729', '#FD6F30']\n",
    "\n",
    "# Convert hexadecimal colors to RGBA\n",
    "colores_rgba = [mcolors.to_rgba(color) if len(color) == 7 else mcolors.to_rgba(color + 'FF') for color in colores]\n",
    "\n",
    "# Crear un DataFrame con los datos\n",
    "df = pd.DataFrame(target, columns=['Labels'])\n",
    "\n",
    "# Convertir 0 y 1 de 'target' a 'Parasitized' y 'Uninfected'\n",
    "df['Labels'] = df['Labels'].replace({0: 'Otras causas', 1: 'COVID-19'})\n",
    "\n",
    "# Gráfico de conteo con las categorías 'Parasitized' y 'Uninfected'\n",
    "sx = sns.countplot(x='Labels', data=df, palette=colores_rgba)\n",
    "\n",
    "# Añadir etiquetas a los ejes x e y\n",
    "plt.xlabel('Categorías')\n",
    "plt.ylabel('Frecuencia')\n",
    "\n",
    "# Añadir título al gráfico\n",
    "plt.title('Gráfico de frecuencias')\n",
    "\n",
    "# Añadir el número de conteo encima de cada barra\n",
    "for p in sx.patches:\n",
    "    sx.annotate(format(p.get_height(), '.0f'), \n",
    "                (p.get_x() + p.get_width() / 2., p.get_height()), \n",
    "                ha='center', va='center', \n",
    "                xytext=(0, 5), \n",
    "                textcoords='offset points')\n",
    "\n",
    "# Guardar el gráfico como imagen\n",
    "plt.savefig('frecuencias.png')\n",
    "\n",
    "# Mostrar el gráfico\n",
    "plt.show()\n"
   ]
  },
  {
   "cell_type": "code",
   "execution_count": 11,
   "id": "30fa7df3",
   "metadata": {},
   "outputs": [
    {
     "data": {
      "image/png": "[encoded data removed]",
      "text/plain": [
       "<Figure size 800x400 with 12 Axes>"
      ]
     },
     "metadata": {},
     "output_type": "display_data"
    }
   ],
   "source": [
    "import numpy as np\n",
    "import matplotlib.pyplot as plt\n",
    "\n",
    "plt.figure(figsize=(8, 4))\n",
    "\n",
    "rows = 2\n",
    "cols = 6\n",
    "\n",
    "for n, i in enumerate(list(np.random.randint(0, len(flat_data), rows * cols))):\n",
    "    plt.subplot(rows, cols, n+1)\n",
    "    plt.imshow(flat_data[i])\n",
    "    plt.title(Categories[target[i]])\n",
    "    plt.axis('off')\n",
    "\n",
    "plt.tight_layout()\n",
    "plt.savefig('malaria.png')\n",
    "plt.show()\n",
    "\n"
   ]
  },
  {
   "cell_type": "markdown",
   "id": "713177a2",
   "metadata": {},
   "source": [
    "##  Unir csv e imágenes"
   ]
  },
  {
   "cell_type": "markdown",
   "id": "98b337ce",
   "metadata": {},
   "source": [
    "Aplano las imágenes y las uno al nombre de la imágen"
   ]
  },
  {
   "cell_type": "code",
   "execution_count": 12,
   "id": "fa13629b-f9fe-4fa9-b86c-65fd7cee75b7",
   "metadata": {},
   "outputs": [],
   "source": [
    "Data2 = []  # Asegúrate de que esta lista está creada antes de usarla\n",
    "\n",
    "for img in flat_data:\n",
    "    # Aplana la imagen y agrega la fila a la lista\n",
    "    Data2.append(img.flatten())\n",
    "\n",
    "# Convierte la lista de imágenes aplanadas a un array NumPy\n",
    "Data2 =  pd.DataFrame(Data2)"
   ]
  },
  {
   "cell_type": "code",
   "execution_count": 13,
   "id": "5dd1a297",
   "metadata": {},
   "outputs": [],
   "source": [
    "df_image_names = pd.DataFrame(image_names_arr, columns=['filename'])\n",
    "Data_final = pd.concat([Data2, df_image_names], axis=1)"
   ]
  },
  {
   "cell_type": "code",
   "execution_count": 14,
   "id": "cd2fea66",
   "metadata": {},
   "outputs": [
    {
     "data": {
      "text/html": [
       "<div>\n",
       "<style scoped>\n",
       "    .dataframe tbody tr th:only-of-type {\n",
       "        vertical-align: middle;\n",
       "    }\n",
       "\n",
       "    .dataframe tbody tr th {\n",
       "        vertical-align: top;\n",
       "    }\n",
       "\n",
       "    .dataframe thead th {\n",
       "        text-align: right;\n",
       "    }\n",
       "</style>\n",
       "<table border=\"1\" class=\"dataframe\">\n",
       "  <thead>\n",
       "    <tr style=\"text-align: right;\">\n",
       "      <th></th>\n",
       "      <th>0</th>\n",
       "      <th>1</th>\n",
       "      <th>2</th>\n",
       "      <th>3</th>\n",
       "      <th>4</th>\n",
       "      <th>5</th>\n",
       "      <th>6</th>\n",
       "      <th>7</th>\n",
       "      <th>8</th>\n",
       "      <th>9</th>\n",
       "      <th>...</th>\n",
       "      <th>10791</th>\n",
       "      <th>10792</th>\n",
       "      <th>10793</th>\n",
       "      <th>10794</th>\n",
       "      <th>10795</th>\n",
       "      <th>10796</th>\n",
       "      <th>10797</th>\n",
       "      <th>10798</th>\n",
       "      <th>10799</th>\n",
       "      <th>filename</th>\n",
       "    </tr>\n",
       "  </thead>\n",
       "  <tbody>\n",
       "    <tr>\n",
       "      <th>0</th>\n",
       "      <td>0.294397</td>\n",
       "      <td>0.294397</td>\n",
       "      <td>0.882400</td>\n",
       "      <td>2.337983e-01</td>\n",
       "      <td>2.337983e-01</td>\n",
       "      <td>8.722997e-01</td>\n",
       "      <td>0.225306</td>\n",
       "      <td>0.225306</td>\n",
       "      <td>0.870884</td>\n",
       "      <td>0.101153</td>\n",
       "      <td>...</td>\n",
       "      <td>0.581171</td>\n",
       "      <td>0.581171</td>\n",
       "      <td>0.930195</td>\n",
       "      <td>0.380181</td>\n",
       "      <td>0.380181</td>\n",
       "      <td>0.896697</td>\n",
       "      <td>0.183274</td>\n",
       "      <td>0.183274</td>\n",
       "      <td>0.863879</td>\n",
       "      <td>000008-8.jpg</td>\n",
       "    </tr>\n",
       "    <tr>\n",
       "      <th>1</th>\n",
       "      <td>0.155872</td>\n",
       "      <td>0.155872</td>\n",
       "      <td>0.859312</td>\n",
       "      <td>1.501174e-01</td>\n",
       "      <td>1.501174e-01</td>\n",
       "      <td>8.583529e-01</td>\n",
       "      <td>0.149352</td>\n",
       "      <td>0.149352</td>\n",
       "      <td>0.858225</td>\n",
       "      <td>0.148679</td>\n",
       "      <td>...</td>\n",
       "      <td>0.554280</td>\n",
       "      <td>0.554280</td>\n",
       "      <td>0.925713</td>\n",
       "      <td>0.593826</td>\n",
       "      <td>0.593826</td>\n",
       "      <td>0.932304</td>\n",
       "      <td>0.597148</td>\n",
       "      <td>0.597148</td>\n",
       "      <td>0.932858</td>\n",
       "      <td>000001-9.jpg</td>\n",
       "    </tr>\n",
       "    <tr>\n",
       "      <th>2</th>\n",
       "      <td>0.003922</td>\n",
       "      <td>0.003922</td>\n",
       "      <td>0.003922</td>\n",
       "      <td>3.922088e-03</td>\n",
       "      <td>3.922088e-03</td>\n",
       "      <td>3.922088e-03</td>\n",
       "      <td>0.003924</td>\n",
       "      <td>0.003924</td>\n",
       "      <td>0.003924</td>\n",
       "      <td>0.003922</td>\n",
       "      <td>...</td>\n",
       "      <td>0.003922</td>\n",
       "      <td>0.003922</td>\n",
       "      <td>0.003922</td>\n",
       "      <td>0.003922</td>\n",
       "      <td>0.003922</td>\n",
       "      <td>0.003922</td>\n",
       "      <td>0.003922</td>\n",
       "      <td>0.003922</td>\n",
       "      <td>0.003922</td>\n",
       "      <td>000001-2.jpg</td>\n",
       "    </tr>\n",
       "    <tr>\n",
       "      <th>3</th>\n",
       "      <td>0.000000</td>\n",
       "      <td>0.000000</td>\n",
       "      <td>0.000000</td>\n",
       "      <td>2.362795e-07</td>\n",
       "      <td>2.362795e-07</td>\n",
       "      <td>2.362795e-07</td>\n",
       "      <td>0.000205</td>\n",
       "      <td>0.000205</td>\n",
       "      <td>0.000205</td>\n",
       "      <td>0.002745</td>\n",
       "      <td>...</td>\n",
       "      <td>0.012252</td>\n",
       "      <td>0.012252</td>\n",
       "      <td>0.012252</td>\n",
       "      <td>0.006594</td>\n",
       "      <td>0.006594</td>\n",
       "      <td>0.006594</td>\n",
       "      <td>0.005555</td>\n",
       "      <td>0.005555</td>\n",
       "      <td>0.005555</td>\n",
       "      <td>c98c6fce880dbec0d1eb3045cec103_jumbo.jpg</td>\n",
       "    </tr>\n",
       "    <tr>\n",
       "      <th>4</th>\n",
       "      <td>0.006267</td>\n",
       "      <td>0.006267</td>\n",
       "      <td>0.006267</td>\n",
       "      <td>3.501740e-02</td>\n",
       "      <td>3.501740e-02</td>\n",
       "      <td>3.501740e-02</td>\n",
       "      <td>0.039491</td>\n",
       "      <td>0.039491</td>\n",
       "      <td>0.039491</td>\n",
       "      <td>0.039236</td>\n",
       "      <td>...</td>\n",
       "      <td>0.250902</td>\n",
       "      <td>0.250902</td>\n",
       "      <td>0.250902</td>\n",
       "      <td>0.054004</td>\n",
       "      <td>0.054004</td>\n",
       "      <td>0.054004</td>\n",
       "      <td>0.000419</td>\n",
       "      <td>0.000419</td>\n",
       "      <td>0.000419</td>\n",
       "      <td>ba45a47c3ef5060ec39891046be7ca_jumbo.jpg</td>\n",
       "    </tr>\n",
       "    <tr>\n",
       "      <th>...</th>\n",
       "      <td>...</td>\n",
       "      <td>...</td>\n",
       "      <td>...</td>\n",
       "      <td>...</td>\n",
       "      <td>...</td>\n",
       "      <td>...</td>\n",
       "      <td>...</td>\n",
       "      <td>...</td>\n",
       "      <td>...</td>\n",
       "      <td>...</td>\n",
       "      <td>...</td>\n",
       "      <td>...</td>\n",
       "      <td>...</td>\n",
       "      <td>...</td>\n",
       "      <td>...</td>\n",
       "      <td>...</td>\n",
       "      <td>...</td>\n",
       "      <td>...</td>\n",
       "      <td>...</td>\n",
       "      <td>...</td>\n",
       "      <td>...</td>\n",
       "    </tr>\n",
       "    <tr>\n",
       "      <th>454</th>\n",
       "      <td>0.341342</td>\n",
       "      <td>0.341342</td>\n",
       "      <td>0.341342</td>\n",
       "      <td>3.899606e-01</td>\n",
       "      <td>3.899606e-01</td>\n",
       "      <td>3.899606e-01</td>\n",
       "      <td>0.411279</td>\n",
       "      <td>0.411279</td>\n",
       "      <td>0.411279</td>\n",
       "      <td>0.411966</td>\n",
       "      <td>...</td>\n",
       "      <td>0.907699</td>\n",
       "      <td>0.907699</td>\n",
       "      <td>0.907699</td>\n",
       "      <td>0.903960</td>\n",
       "      <td>0.903960</td>\n",
       "      <td>0.903960</td>\n",
       "      <td>0.870985</td>\n",
       "      <td>0.870985</td>\n",
       "      <td>0.870985</td>\n",
       "      <td>1-s2.0-S2387020620301959-gr4_lrg-c.png</td>\n",
       "    </tr>\n",
       "    <tr>\n",
       "      <th>455</th>\n",
       "      <td>0.434579</td>\n",
       "      <td>0.437513</td>\n",
       "      <td>0.420175</td>\n",
       "      <td>4.214725e-01</td>\n",
       "      <td>4.243916e-01</td>\n",
       "      <td>4.052698e-01</td>\n",
       "      <td>0.413951</td>\n",
       "      <td>0.416857</td>\n",
       "      <td>0.396060</td>\n",
       "      <td>0.426766</td>\n",
       "      <td>...</td>\n",
       "      <td>0.696624</td>\n",
       "      <td>0.696624</td>\n",
       "      <td>0.696624</td>\n",
       "      <td>0.605376</td>\n",
       "      <td>0.605376</td>\n",
       "      <td>0.605376</td>\n",
       "      <td>0.374253</td>\n",
       "      <td>0.374253</td>\n",
       "      <td>0.374253</td>\n",
       "      <td>16673_2_1.jpg</td>\n",
       "    </tr>\n",
       "    <tr>\n",
       "      <th>456</th>\n",
       "      <td>0.220621</td>\n",
       "      <td>0.220621</td>\n",
       "      <td>0.220621</td>\n",
       "      <td>2.564090e-01</td>\n",
       "      <td>2.564090e-01</td>\n",
       "      <td>2.564090e-01</td>\n",
       "      <td>0.268732</td>\n",
       "      <td>0.268732</td>\n",
       "      <td>0.268732</td>\n",
       "      <td>0.258153</td>\n",
       "      <td>...</td>\n",
       "      <td>0.048080</td>\n",
       "      <td>0.048080</td>\n",
       "      <td>0.048080</td>\n",
       "      <td>0.046430</td>\n",
       "      <td>0.046430</td>\n",
       "      <td>0.046430</td>\n",
       "      <td>0.042482</td>\n",
       "      <td>0.042482</td>\n",
       "      <td>0.042482</td>\n",
       "      <td>16654_4_1.jpg</td>\n",
       "    </tr>\n",
       "    <tr>\n",
       "      <th>457</th>\n",
       "      <td>0.049259</td>\n",
       "      <td>0.049259</td>\n",
       "      <td>0.049259</td>\n",
       "      <td>3.378696e-02</td>\n",
       "      <td>3.378696e-02</td>\n",
       "      <td>3.378696e-02</td>\n",
       "      <td>0.034808</td>\n",
       "      <td>0.034808</td>\n",
       "      <td>0.034808</td>\n",
       "      <td>0.050846</td>\n",
       "      <td>...</td>\n",
       "      <td>0.183271</td>\n",
       "      <td>0.183181</td>\n",
       "      <td>0.183246</td>\n",
       "      <td>0.052617</td>\n",
       "      <td>0.052118</td>\n",
       "      <td>0.052994</td>\n",
       "      <td>0.048478</td>\n",
       "      <td>0.047705</td>\n",
       "      <td>0.048906</td>\n",
       "      <td>39EE8E69-5801-48DE-B6E3-BE7D1BCF3092.jpeg</td>\n",
       "    </tr>\n",
       "    <tr>\n",
       "      <th>458</th>\n",
       "      <td>0.079960</td>\n",
       "      <td>0.111659</td>\n",
       "      <td>0.137900</td>\n",
       "      <td>1.257885e-01</td>\n",
       "      <td>1.272496e-01</td>\n",
       "      <td>1.286547e-01</td>\n",
       "      <td>0.148973</td>\n",
       "      <td>0.147796</td>\n",
       "      <td>0.146738</td>\n",
       "      <td>0.175293</td>\n",
       "      <td>...</td>\n",
       "      <td>0.596681</td>\n",
       "      <td>0.596681</td>\n",
       "      <td>0.596681</td>\n",
       "      <td>0.720440</td>\n",
       "      <td>0.720440</td>\n",
       "      <td>0.720440</td>\n",
       "      <td>0.681562</td>\n",
       "      <td>0.681562</td>\n",
       "      <td>0.681562</td>\n",
       "      <td>paving.jpg</td>\n",
       "    </tr>\n",
       "  </tbody>\n",
       "</table>\n",
       "<p>459 rows × 10801 columns</p>\n",
       "</div>"
      ],
      "text/plain": [
       "            0         1         2             3             4             5  \\\n",
       "0    0.294397  0.294397  0.882400  2.337983e-01  2.337983e-01  8.722997e-01   \n",
       "1    0.155872  0.155872  0.859312  1.501174e-01  1.501174e-01  8.583529e-01   \n",
       "2    0.003922  0.003922  0.003922  3.922088e-03  3.922088e-03  3.922088e-03   \n",
       "3    0.000000  0.000000  0.000000  2.362795e-07  2.362795e-07  2.362795e-07   \n",
       "4    0.006267  0.006267  0.006267  3.501740e-02  3.501740e-02  3.501740e-02   \n",
       "..        ...       ...       ...           ...           ...           ...   \n",
       "454  0.341342  0.341342  0.341342  3.899606e-01  3.899606e-01  3.899606e-01   \n",
       "455  0.434579  0.437513  0.420175  4.214725e-01  4.243916e-01  4.052698e-01   \n",
       "456  0.220621  0.220621  0.220621  2.564090e-01  2.564090e-01  2.564090e-01   \n",
       "457  0.049259  0.049259  0.049259  3.378696e-02  3.378696e-02  3.378696e-02   \n",
       "458  0.079960  0.111659  0.137900  1.257885e-01  1.272496e-01  1.286547e-01   \n",
       "\n",
       "            6         7         8         9  ...     10791     10792  \\\n",
       "0    0.225306  0.225306  0.870884  0.101153  ...  0.581171  0.581171   \n",
       "1    0.149352  0.149352  0.858225  0.148679  ...  0.554280  0.554280   \n",
       "2    0.003924  0.003924  0.003924  0.003922  ...  0.003922  0.003922   \n",
       "3    0.000205  0.000205  0.000205  0.002745  ...  0.012252  0.012252   \n",
       "4    0.039491  0.039491  0.039491  0.039236  ...  0.250902  0.250902   \n",
       "..        ...       ...       ...       ...  ...       ...       ...   \n",
       "454  0.411279  0.411279  0.411279  0.411966  ...  0.907699  0.907699   \n",
       "455  0.413951  0.416857  0.396060  0.426766  ...  0.696624  0.696624   \n",
       "456  0.268732  0.268732  0.268732  0.258153  ...  0.048080  0.048080   \n",
       "457  0.034808  0.034808  0.034808  0.050846  ...  0.183271  0.183181   \n",
       "458  0.148973  0.147796  0.146738  0.175293  ...  0.596681  0.596681   \n",
       "\n",
       "        10793     10794     10795     10796     10797     10798     10799  \\\n",
       "0    0.930195  0.380181  0.380181  0.896697  0.183274  0.183274  0.863879   \n",
       "1    0.925713  0.593826  0.593826  0.932304  0.597148  0.597148  0.932858   \n",
       "2    0.003922  0.003922  0.003922  0.003922  0.003922  0.003922  0.003922   \n",
       "3    0.012252  0.006594  0.006594  0.006594  0.005555  0.005555  0.005555   \n",
       "4    0.250902  0.054004  0.054004  0.054004  0.000419  0.000419  0.000419   \n",
       "..        ...       ...       ...       ...       ...       ...       ...   \n",
       "454  0.907699  0.903960  0.903960  0.903960  0.870985  0.870985  0.870985   \n",
       "455  0.696624  0.605376  0.605376  0.605376  0.374253  0.374253  0.374253   \n",
       "456  0.048080  0.046430  0.046430  0.046430  0.042482  0.042482  0.042482   \n",
       "457  0.183246  0.052617  0.052118  0.052994  0.048478  0.047705  0.048906   \n",
       "458  0.596681  0.720440  0.720440  0.720440  0.681562  0.681562  0.681562   \n",
       "\n",
       "                                      filename  \n",
       "0                                 000008-8.jpg  \n",
       "1                                 000001-9.jpg  \n",
       "2                                 000001-2.jpg  \n",
       "3     c98c6fce880dbec0d1eb3045cec103_jumbo.jpg  \n",
       "4     ba45a47c3ef5060ec39891046be7ca_jumbo.jpg  \n",
       "..                                         ...  \n",
       "454     1-s2.0-S2387020620301959-gr4_lrg-c.png  \n",
       "455                              16673_2_1.jpg  \n",
       "456                              16654_4_1.jpg  \n",
       "457  39EE8E69-5801-48DE-B6E3-BE7D1BCF3092.jpeg  \n",
       "458                                 paving.jpg  \n",
       "\n",
       "[459 rows x 10801 columns]"
      ]
     },
     "execution_count": 14,
     "metadata": {},
     "output_type": "execute_result"
    }
   ],
   "source": [
    "Data_final"
   ]
  },
  {
   "cell_type": "code",
   "execution_count": 15,
   "id": "bfa1639d",
   "metadata": {},
   "outputs": [],
   "source": [
    "import pandas as pd\n",
    "\n",
    "# Ruta del archivo XLSX que contiene los nombres de las imágenes\n",
    "archivo_imagenes_xlsx = \"C:\\\\Users\\\\andre\\\\Desktop\\\\2º Cuatri\\\\TFG\\\\codigo\\\\final\\\\dfXY3.xlsx\"\n",
    "\n",
    "# Cargar el archivo XLSX\n",
    "df_imagenes = pd.read_excel(archivo_imagenes_xlsx)\n",
    "df_merged = pd.merge(Data_final, df_imagenes, on='filename', how='inner')"
   ]
  },
  {
   "cell_type": "code",
   "execution_count": 16,
   "id": "e4fcd66d",
   "metadata": {},
   "outputs": [
    {
     "data": {
      "text/html": [
       "<div>\n",
       "<style scoped>\n",
       "    .dataframe tbody tr th:only-of-type {\n",
       "        vertical-align: middle;\n",
       "    }\n",
       "\n",
       "    .dataframe tbody tr th {\n",
       "        vertical-align: top;\n",
       "    }\n",
       "\n",
       "    .dataframe thead th {\n",
       "        text-align: right;\n",
       "    }\n",
       "</style>\n",
       "<table border=\"1\" class=\"dataframe\">\n",
       "  <thead>\n",
       "    <tr style=\"text-align: right;\">\n",
       "      <th></th>\n",
       "      <th>0</th>\n",
       "      <th>1</th>\n",
       "      <th>2</th>\n",
       "      <th>3</th>\n",
       "      <th>4</th>\n",
       "      <th>5</th>\n",
       "      <th>6</th>\n",
       "      <th>7</th>\n",
       "      <th>8</th>\n",
       "      <th>9</th>\n",
       "      <th>...</th>\n",
       "      <th>10793</th>\n",
       "      <th>10794</th>\n",
       "      <th>10795</th>\n",
       "      <th>10796</th>\n",
       "      <th>10797</th>\n",
       "      <th>10798</th>\n",
       "      <th>10799</th>\n",
       "      <th>filename</th>\n",
       "      <th>target</th>\n",
       "      <th>Cluster_asignado</th>\n",
       "    </tr>\n",
       "  </thead>\n",
       "  <tbody>\n",
       "    <tr>\n",
       "      <th>0</th>\n",
       "      <td>0.294397</td>\n",
       "      <td>0.294397</td>\n",
       "      <td>0.882400</td>\n",
       "      <td>2.337983e-01</td>\n",
       "      <td>2.337983e-01</td>\n",
       "      <td>8.722997e-01</td>\n",
       "      <td>0.225306</td>\n",
       "      <td>0.225306</td>\n",
       "      <td>0.870884</td>\n",
       "      <td>0.101153</td>\n",
       "      <td>...</td>\n",
       "      <td>0.930195</td>\n",
       "      <td>0.380181</td>\n",
       "      <td>0.380181</td>\n",
       "      <td>0.896697</td>\n",
       "      <td>0.183274</td>\n",
       "      <td>0.183274</td>\n",
       "      <td>0.863879</td>\n",
       "      <td>000008-8.jpg</td>\n",
       "      <td>1</td>\n",
       "      <td>0</td>\n",
       "    </tr>\n",
       "    <tr>\n",
       "      <th>1</th>\n",
       "      <td>0.155872</td>\n",
       "      <td>0.155872</td>\n",
       "      <td>0.859312</td>\n",
       "      <td>1.501174e-01</td>\n",
       "      <td>1.501174e-01</td>\n",
       "      <td>8.583529e-01</td>\n",
       "      <td>0.149352</td>\n",
       "      <td>0.149352</td>\n",
       "      <td>0.858225</td>\n",
       "      <td>0.148679</td>\n",
       "      <td>...</td>\n",
       "      <td>0.925713</td>\n",
       "      <td>0.593826</td>\n",
       "      <td>0.593826</td>\n",
       "      <td>0.932304</td>\n",
       "      <td>0.597148</td>\n",
       "      <td>0.597148</td>\n",
       "      <td>0.932858</td>\n",
       "      <td>000001-9.jpg</td>\n",
       "      <td>1</td>\n",
       "      <td>1</td>\n",
       "    </tr>\n",
       "    <tr>\n",
       "      <th>2</th>\n",
       "      <td>0.003922</td>\n",
       "      <td>0.003922</td>\n",
       "      <td>0.003922</td>\n",
       "      <td>3.922088e-03</td>\n",
       "      <td>3.922088e-03</td>\n",
       "      <td>3.922088e-03</td>\n",
       "      <td>0.003924</td>\n",
       "      <td>0.003924</td>\n",
       "      <td>0.003924</td>\n",
       "      <td>0.003922</td>\n",
       "      <td>...</td>\n",
       "      <td>0.003922</td>\n",
       "      <td>0.003922</td>\n",
       "      <td>0.003922</td>\n",
       "      <td>0.003922</td>\n",
       "      <td>0.003922</td>\n",
       "      <td>0.003922</td>\n",
       "      <td>0.003922</td>\n",
       "      <td>000001-2.jpg</td>\n",
       "      <td>1</td>\n",
       "      <td>0</td>\n",
       "    </tr>\n",
       "    <tr>\n",
       "      <th>3</th>\n",
       "      <td>0.000000</td>\n",
       "      <td>0.000000</td>\n",
       "      <td>0.000000</td>\n",
       "      <td>2.362795e-07</td>\n",
       "      <td>2.362795e-07</td>\n",
       "      <td>2.362795e-07</td>\n",
       "      <td>0.000205</td>\n",
       "      <td>0.000205</td>\n",
       "      <td>0.000205</td>\n",
       "      <td>0.002745</td>\n",
       "      <td>...</td>\n",
       "      <td>0.012252</td>\n",
       "      <td>0.006594</td>\n",
       "      <td>0.006594</td>\n",
       "      <td>0.006594</td>\n",
       "      <td>0.005555</td>\n",
       "      <td>0.005555</td>\n",
       "      <td>0.005555</td>\n",
       "      <td>c98c6fce880dbec0d1eb3045cec103_jumbo.jpg</td>\n",
       "      <td>1</td>\n",
       "      <td>0</td>\n",
       "    </tr>\n",
       "    <tr>\n",
       "      <th>4</th>\n",
       "      <td>0.006267</td>\n",
       "      <td>0.006267</td>\n",
       "      <td>0.006267</td>\n",
       "      <td>3.501740e-02</td>\n",
       "      <td>3.501740e-02</td>\n",
       "      <td>3.501740e-02</td>\n",
       "      <td>0.039491</td>\n",
       "      <td>0.039491</td>\n",
       "      <td>0.039491</td>\n",
       "      <td>0.039236</td>\n",
       "      <td>...</td>\n",
       "      <td>0.250902</td>\n",
       "      <td>0.054004</td>\n",
       "      <td>0.054004</td>\n",
       "      <td>0.054004</td>\n",
       "      <td>0.000419</td>\n",
       "      <td>0.000419</td>\n",
       "      <td>0.000419</td>\n",
       "      <td>ba45a47c3ef5060ec39891046be7ca_jumbo.jpg</td>\n",
       "      <td>1</td>\n",
       "      <td>0</td>\n",
       "    </tr>\n",
       "    <tr>\n",
       "      <th>...</th>\n",
       "      <td>...</td>\n",
       "      <td>...</td>\n",
       "      <td>...</td>\n",
       "      <td>...</td>\n",
       "      <td>...</td>\n",
       "      <td>...</td>\n",
       "      <td>...</td>\n",
       "      <td>...</td>\n",
       "      <td>...</td>\n",
       "      <td>...</td>\n",
       "      <td>...</td>\n",
       "      <td>...</td>\n",
       "      <td>...</td>\n",
       "      <td>...</td>\n",
       "      <td>...</td>\n",
       "      <td>...</td>\n",
       "      <td>...</td>\n",
       "      <td>...</td>\n",
       "      <td>...</td>\n",
       "      <td>...</td>\n",
       "      <td>...</td>\n",
       "    </tr>\n",
       "    <tr>\n",
       "      <th>454</th>\n",
       "      <td>0.341342</td>\n",
       "      <td>0.341342</td>\n",
       "      <td>0.341342</td>\n",
       "      <td>3.899606e-01</td>\n",
       "      <td>3.899606e-01</td>\n",
       "      <td>3.899606e-01</td>\n",
       "      <td>0.411279</td>\n",
       "      <td>0.411279</td>\n",
       "      <td>0.411279</td>\n",
       "      <td>0.411966</td>\n",
       "      <td>...</td>\n",
       "      <td>0.907699</td>\n",
       "      <td>0.903960</td>\n",
       "      <td>0.903960</td>\n",
       "      <td>0.903960</td>\n",
       "      <td>0.870985</td>\n",
       "      <td>0.870985</td>\n",
       "      <td>0.870985</td>\n",
       "      <td>1-s2.0-S2387020620301959-gr4_lrg-c.png</td>\n",
       "      <td>0</td>\n",
       "      <td>1</td>\n",
       "    </tr>\n",
       "    <tr>\n",
       "      <th>455</th>\n",
       "      <td>0.434579</td>\n",
       "      <td>0.437513</td>\n",
       "      <td>0.420175</td>\n",
       "      <td>4.214725e-01</td>\n",
       "      <td>4.243916e-01</td>\n",
       "      <td>4.052698e-01</td>\n",
       "      <td>0.413951</td>\n",
       "      <td>0.416857</td>\n",
       "      <td>0.396060</td>\n",
       "      <td>0.426766</td>\n",
       "      <td>...</td>\n",
       "      <td>0.696624</td>\n",
       "      <td>0.605376</td>\n",
       "      <td>0.605376</td>\n",
       "      <td>0.605376</td>\n",
       "      <td>0.374253</td>\n",
       "      <td>0.374253</td>\n",
       "      <td>0.374253</td>\n",
       "      <td>16673_2_1.jpg</td>\n",
       "      <td>0</td>\n",
       "      <td>1</td>\n",
       "    </tr>\n",
       "    <tr>\n",
       "      <th>456</th>\n",
       "      <td>0.220621</td>\n",
       "      <td>0.220621</td>\n",
       "      <td>0.220621</td>\n",
       "      <td>2.564090e-01</td>\n",
       "      <td>2.564090e-01</td>\n",
       "      <td>2.564090e-01</td>\n",
       "      <td>0.268732</td>\n",
       "      <td>0.268732</td>\n",
       "      <td>0.268732</td>\n",
       "      <td>0.258153</td>\n",
       "      <td>...</td>\n",
       "      <td>0.048080</td>\n",
       "      <td>0.046430</td>\n",
       "      <td>0.046430</td>\n",
       "      <td>0.046430</td>\n",
       "      <td>0.042482</td>\n",
       "      <td>0.042482</td>\n",
       "      <td>0.042482</td>\n",
       "      <td>16654_4_1.jpg</td>\n",
       "      <td>0</td>\n",
       "      <td>1</td>\n",
       "    </tr>\n",
       "    <tr>\n",
       "      <th>457</th>\n",
       "      <td>0.049259</td>\n",
       "      <td>0.049259</td>\n",
       "      <td>0.049259</td>\n",
       "      <td>3.378696e-02</td>\n",
       "      <td>3.378696e-02</td>\n",
       "      <td>3.378696e-02</td>\n",
       "      <td>0.034808</td>\n",
       "      <td>0.034808</td>\n",
       "      <td>0.034808</td>\n",
       "      <td>0.050846</td>\n",
       "      <td>...</td>\n",
       "      <td>0.183246</td>\n",
       "      <td>0.052617</td>\n",
       "      <td>0.052118</td>\n",
       "      <td>0.052994</td>\n",
       "      <td>0.048478</td>\n",
       "      <td>0.047705</td>\n",
       "      <td>0.048906</td>\n",
       "      <td>39EE8E69-5801-48DE-B6E3-BE7D1BCF3092.jpeg</td>\n",
       "      <td>0</td>\n",
       "      <td>0</td>\n",
       "    </tr>\n",
       "    <tr>\n",
       "      <th>458</th>\n",
       "      <td>0.079960</td>\n",
       "      <td>0.111659</td>\n",
       "      <td>0.137900</td>\n",
       "      <td>1.257885e-01</td>\n",
       "      <td>1.272496e-01</td>\n",
       "      <td>1.286547e-01</td>\n",
       "      <td>0.148973</td>\n",
       "      <td>0.147796</td>\n",
       "      <td>0.146738</td>\n",
       "      <td>0.175293</td>\n",
       "      <td>...</td>\n",
       "      <td>0.596681</td>\n",
       "      <td>0.720440</td>\n",
       "      <td>0.720440</td>\n",
       "      <td>0.720440</td>\n",
       "      <td>0.681562</td>\n",
       "      <td>0.681562</td>\n",
       "      <td>0.681562</td>\n",
       "      <td>paving.jpg</td>\n",
       "      <td>0</td>\n",
       "      <td>1</td>\n",
       "    </tr>\n",
       "  </tbody>\n",
       "</table>\n",
       "<p>459 rows × 10803 columns</p>\n",
       "</div>"
      ],
      "text/plain": [
       "            0         1         2             3             4             5  \\\n",
       "0    0.294397  0.294397  0.882400  2.337983e-01  2.337983e-01  8.722997e-01   \n",
       "1    0.155872  0.155872  0.859312  1.501174e-01  1.501174e-01  8.583529e-01   \n",
       "2    0.003922  0.003922  0.003922  3.922088e-03  3.922088e-03  3.922088e-03   \n",
       "3    0.000000  0.000000  0.000000  2.362795e-07  2.362795e-07  2.362795e-07   \n",
       "4    0.006267  0.006267  0.006267  3.501740e-02  3.501740e-02  3.501740e-02   \n",
       "..        ...       ...       ...           ...           ...           ...   \n",
       "454  0.341342  0.341342  0.341342  3.899606e-01  3.899606e-01  3.899606e-01   \n",
       "455  0.434579  0.437513  0.420175  4.214725e-01  4.243916e-01  4.052698e-01   \n",
       "456  0.220621  0.220621  0.220621  2.564090e-01  2.564090e-01  2.564090e-01   \n",
       "457  0.049259  0.049259  0.049259  3.378696e-02  3.378696e-02  3.378696e-02   \n",
       "458  0.079960  0.111659  0.137900  1.257885e-01  1.272496e-01  1.286547e-01   \n",
       "\n",
       "            6         7         8         9  ...     10793     10794  \\\n",
       "0    0.225306  0.225306  0.870884  0.101153  ...  0.930195  0.380181   \n",
       "1    0.149352  0.149352  0.858225  0.148679  ...  0.925713  0.593826   \n",
       "2    0.003924  0.003924  0.003924  0.003922  ...  0.003922  0.003922   \n",
       "3    0.000205  0.000205  0.000205  0.002745  ...  0.012252  0.006594   \n",
       "4    0.039491  0.039491  0.039491  0.039236  ...  0.250902  0.054004   \n",
       "..        ...       ...       ...       ...  ...       ...       ...   \n",
       "454  0.411279  0.411279  0.411279  0.411966  ...  0.907699  0.903960   \n",
       "455  0.413951  0.416857  0.396060  0.426766  ...  0.696624  0.605376   \n",
       "456  0.268732  0.268732  0.268732  0.258153  ...  0.048080  0.046430   \n",
       "457  0.034808  0.034808  0.034808  0.050846  ...  0.183246  0.052617   \n",
       "458  0.148973  0.147796  0.146738  0.175293  ...  0.596681  0.720440   \n",
       "\n",
       "        10795     10796     10797     10798     10799  \\\n",
       "0    0.380181  0.896697  0.183274  0.183274  0.863879   \n",
       "1    0.593826  0.932304  0.597148  0.597148  0.932858   \n",
       "2    0.003922  0.003922  0.003922  0.003922  0.003922   \n",
       "3    0.006594  0.006594  0.005555  0.005555  0.005555   \n",
       "4    0.054004  0.054004  0.000419  0.000419  0.000419   \n",
       "..        ...       ...       ...       ...       ...   \n",
       "454  0.903960  0.903960  0.870985  0.870985  0.870985   \n",
       "455  0.605376  0.605376  0.374253  0.374253  0.374253   \n",
       "456  0.046430  0.046430  0.042482  0.042482  0.042482   \n",
       "457  0.052118  0.052994  0.048478  0.047705  0.048906   \n",
       "458  0.720440  0.720440  0.681562  0.681562  0.681562   \n",
       "\n",
       "                                      filename  target  Cluster_asignado  \n",
       "0                                 000008-8.jpg       1                 0  \n",
       "1                                 000001-9.jpg       1                 1  \n",
       "2                                 000001-2.jpg       1                 0  \n",
       "3     c98c6fce880dbec0d1eb3045cec103_jumbo.jpg       1                 0  \n",
       "4     ba45a47c3ef5060ec39891046be7ca_jumbo.jpg       1                 0  \n",
       "..                                         ...     ...               ...  \n",
       "454     1-s2.0-S2387020620301959-gr4_lrg-c.png       0                 1  \n",
       "455                              16673_2_1.jpg       0                 1  \n",
       "456                              16654_4_1.jpg       0                 1  \n",
       "457  39EE8E69-5801-48DE-B6E3-BE7D1BCF3092.jpeg       0                 0  \n",
       "458                                 paving.jpg       0                 1  \n",
       "\n",
       "[459 rows x 10803 columns]"
      ]
     },
     "execution_count": 16,
     "metadata": {},
     "output_type": "execute_result"
    }
   ],
   "source": [
    "df_merged"
   ]
  },
  {
   "cell_type": "code",
   "execution_count": 17,
   "id": "90f227e4",
   "metadata": {},
   "outputs": [
    {
     "name": "stdout",
     "output_type": "stream",
     "text": [
      "Número de filas: 459\n",
      "Número de columnas: 10803\n"
     ]
    }
   ],
   "source": [
    "num_filas, num_columnas = df_merged.shape\n",
    "\n",
    "print(\"Número de filas:\", num_filas)\n",
    "print(\"Número de columnas:\", num_columnas)"
   ]
  },
  {
   "cell_type": "code",
   "execution_count": 18,
   "id": "fdddbf8a",
   "metadata": {},
   "outputs": [
    {
     "data": {
      "text/html": [
       "<div>\n",
       "<style scoped>\n",
       "    .dataframe tbody tr th:only-of-type {\n",
       "        vertical-align: middle;\n",
       "    }\n",
       "\n",
       "    .dataframe tbody tr th {\n",
       "        vertical-align: top;\n",
       "    }\n",
       "\n",
       "    .dataframe thead th {\n",
       "        text-align: right;\n",
       "    }\n",
       "</style>\n",
       "<table border=\"1\" class=\"dataframe\">\n",
       "  <thead>\n",
       "    <tr style=\"text-align: right;\">\n",
       "      <th></th>\n",
       "      <th>0</th>\n",
       "      <th>1</th>\n",
       "      <th>2</th>\n",
       "      <th>3</th>\n",
       "      <th>4</th>\n",
       "      <th>5</th>\n",
       "      <th>6</th>\n",
       "      <th>7</th>\n",
       "      <th>8</th>\n",
       "      <th>9</th>\n",
       "      <th>...</th>\n",
       "      <th>10792</th>\n",
       "      <th>10793</th>\n",
       "      <th>10794</th>\n",
       "      <th>10795</th>\n",
       "      <th>10796</th>\n",
       "      <th>10797</th>\n",
       "      <th>10798</th>\n",
       "      <th>10799</th>\n",
       "      <th>target</th>\n",
       "      <th>Cluster_asignado</th>\n",
       "    </tr>\n",
       "  </thead>\n",
       "  <tbody>\n",
       "    <tr>\n",
       "      <th>0</th>\n",
       "      <td>0.294397</td>\n",
       "      <td>0.294397</td>\n",
       "      <td>0.882400</td>\n",
       "      <td>2.337983e-01</td>\n",
       "      <td>2.337983e-01</td>\n",
       "      <td>8.722997e-01</td>\n",
       "      <td>0.225306</td>\n",
       "      <td>0.225306</td>\n",
       "      <td>0.870884</td>\n",
       "      <td>0.101153</td>\n",
       "      <td>...</td>\n",
       "      <td>0.581171</td>\n",
       "      <td>0.930195</td>\n",
       "      <td>0.380181</td>\n",
       "      <td>0.380181</td>\n",
       "      <td>0.896697</td>\n",
       "      <td>0.183274</td>\n",
       "      <td>0.183274</td>\n",
       "      <td>0.863879</td>\n",
       "      <td>1</td>\n",
       "      <td>0</td>\n",
       "    </tr>\n",
       "    <tr>\n",
       "      <th>1</th>\n",
       "      <td>0.155872</td>\n",
       "      <td>0.155872</td>\n",
       "      <td>0.859312</td>\n",
       "      <td>1.501174e-01</td>\n",
       "      <td>1.501174e-01</td>\n",
       "      <td>8.583529e-01</td>\n",
       "      <td>0.149352</td>\n",
       "      <td>0.149352</td>\n",
       "      <td>0.858225</td>\n",
       "      <td>0.148679</td>\n",
       "      <td>...</td>\n",
       "      <td>0.554280</td>\n",
       "      <td>0.925713</td>\n",
       "      <td>0.593826</td>\n",
       "      <td>0.593826</td>\n",
       "      <td>0.932304</td>\n",
       "      <td>0.597148</td>\n",
       "      <td>0.597148</td>\n",
       "      <td>0.932858</td>\n",
       "      <td>1</td>\n",
       "      <td>1</td>\n",
       "    </tr>\n",
       "    <tr>\n",
       "      <th>2</th>\n",
       "      <td>0.003922</td>\n",
       "      <td>0.003922</td>\n",
       "      <td>0.003922</td>\n",
       "      <td>3.922088e-03</td>\n",
       "      <td>3.922088e-03</td>\n",
       "      <td>3.922088e-03</td>\n",
       "      <td>0.003924</td>\n",
       "      <td>0.003924</td>\n",
       "      <td>0.003924</td>\n",
       "      <td>0.003922</td>\n",
       "      <td>...</td>\n",
       "      <td>0.003922</td>\n",
       "      <td>0.003922</td>\n",
       "      <td>0.003922</td>\n",
       "      <td>0.003922</td>\n",
       "      <td>0.003922</td>\n",
       "      <td>0.003922</td>\n",
       "      <td>0.003922</td>\n",
       "      <td>0.003922</td>\n",
       "      <td>1</td>\n",
       "      <td>0</td>\n",
       "    </tr>\n",
       "    <tr>\n",
       "      <th>3</th>\n",
       "      <td>0.000000</td>\n",
       "      <td>0.000000</td>\n",
       "      <td>0.000000</td>\n",
       "      <td>2.362795e-07</td>\n",
       "      <td>2.362795e-07</td>\n",
       "      <td>2.362795e-07</td>\n",
       "      <td>0.000205</td>\n",
       "      <td>0.000205</td>\n",
       "      <td>0.000205</td>\n",
       "      <td>0.002745</td>\n",
       "      <td>...</td>\n",
       "      <td>0.012252</td>\n",
       "      <td>0.012252</td>\n",
       "      <td>0.006594</td>\n",
       "      <td>0.006594</td>\n",
       "      <td>0.006594</td>\n",
       "      <td>0.005555</td>\n",
       "      <td>0.005555</td>\n",
       "      <td>0.005555</td>\n",
       "      <td>1</td>\n",
       "      <td>0</td>\n",
       "    </tr>\n",
       "    <tr>\n",
       "      <th>4</th>\n",
       "      <td>0.006267</td>\n",
       "      <td>0.006267</td>\n",
       "      <td>0.006267</td>\n",
       "      <td>3.501740e-02</td>\n",
       "      <td>3.501740e-02</td>\n",
       "      <td>3.501740e-02</td>\n",
       "      <td>0.039491</td>\n",
       "      <td>0.039491</td>\n",
       "      <td>0.039491</td>\n",
       "      <td>0.039236</td>\n",
       "      <td>...</td>\n",
       "      <td>0.250902</td>\n",
       "      <td>0.250902</td>\n",
       "      <td>0.054004</td>\n",
       "      <td>0.054004</td>\n",
       "      <td>0.054004</td>\n",
       "      <td>0.000419</td>\n",
       "      <td>0.000419</td>\n",
       "      <td>0.000419</td>\n",
       "      <td>1</td>\n",
       "      <td>0</td>\n",
       "    </tr>\n",
       "  </tbody>\n",
       "</table>\n",
       "<p>5 rows × 10802 columns</p>\n",
       "</div>"
      ],
      "text/plain": [
       "          0         1         2             3             4             5  \\\n",
       "0  0.294397  0.294397  0.882400  2.337983e-01  2.337983e-01  8.722997e-01   \n",
       "1  0.155872  0.155872  0.859312  1.501174e-01  1.501174e-01  8.583529e-01   \n",
       "2  0.003922  0.003922  0.003922  3.922088e-03  3.922088e-03  3.922088e-03   \n",
       "3  0.000000  0.000000  0.000000  2.362795e-07  2.362795e-07  2.362795e-07   \n",
       "4  0.006267  0.006267  0.006267  3.501740e-02  3.501740e-02  3.501740e-02   \n",
       "\n",
       "          6         7         8         9  ...     10792     10793     10794  \\\n",
       "0  0.225306  0.225306  0.870884  0.101153  ...  0.581171  0.930195  0.380181   \n",
       "1  0.149352  0.149352  0.858225  0.148679  ...  0.554280  0.925713  0.593826   \n",
       "2  0.003924  0.003924  0.003924  0.003922  ...  0.003922  0.003922  0.003922   \n",
       "3  0.000205  0.000205  0.000205  0.002745  ...  0.012252  0.012252  0.006594   \n",
       "4  0.039491  0.039491  0.039491  0.039236  ...  0.250902  0.250902  0.054004   \n",
       "\n",
       "      10795     10796     10797     10798     10799  target  Cluster_asignado  \n",
       "0  0.380181  0.896697  0.183274  0.183274  0.863879       1                 0  \n",
       "1  0.593826  0.932304  0.597148  0.597148  0.932858       1                 1  \n",
       "2  0.003922  0.003922  0.003922  0.003922  0.003922       1                 0  \n",
       "3  0.006594  0.006594  0.005555  0.005555  0.005555       1                 0  \n",
       "4  0.054004  0.054004  0.000419  0.000419  0.000419       1                 0  \n",
       "\n",
       "[5 rows x 10802 columns]"
      ]
     },
     "execution_count": 18,
     "metadata": {},
     "output_type": "execute_result"
    }
   ],
   "source": [
    "# Eliminar la columna 'filename' del DataFrame resultante\n",
    "df_merged = df_merged.drop(columns=['filename'])\n",
    "\n",
    "# Mostrar el DataFrame resultante sin la columna 'filename'\n",
    "df_merged.head()\n"
   ]
  },
  {
   "cell_type": "markdown",
   "id": "6bf9be28",
   "metadata": {},
   "source": [
    "Divido el data set en clusters"
   ]
  },
  {
   "cell_type": "code",
   "execution_count": 19,
   "id": "a305fa4c",
   "metadata": {},
   "outputs": [],
   "source": [
    "# Paso 1: Agrupar por 'Cluster_asignado'\n",
    "grupos = df_merged.groupby('Cluster_asignado')\n",
    "\n",
    "# Diccionario para almacenar los conjuntos de datos de cada grupo\n",
    "datos_por_cluster = {}\n",
    "\n",
    "# Pasos 2 y 3: Para cada grupo, seleccionar las columnas de características y el objetivo\n",
    "for nombre_grupo, datos_grupo in grupos:\n",
    "    # Seleccionar solo las columnas de características (1 a 10799) y el objetivo (target)\n",
    "    columnas_caracteristicas = datos_grupo.iloc[:, :10799]  # Seleccionar columnas de características\n",
    "    objetivo = datos_grupo['target'] "
   ]
  },
  {
   "cell_type": "markdown",
   "id": "7e426bbd",
   "metadata": {},
   "source": [
    "Divido en imagenes y target"
   ]
  },
  {
   "cell_type": "code",
   "execution_count": 20,
   "id": "62973392",
   "metadata": {},
   "outputs": [],
   "source": [
    "# Dividir el DataFrame según la columna 'Cluster_asignado'\n",
    "grupos = df_merged.groupby('Cluster_asignado')\n",
    "\n",
    "# Paso 2: Crear un diccionario para almacenar los DataFrames de cada grupo\n",
    "dataframes_por_cluster = {}\n",
    "\n",
    "# Paso 3: Iterar sobre los grupos y almacenar cada uno en el diccionario\n",
    "for nombre_grupo, datos_grupo in grupos:\n",
    "    # Almacena el DataFrame del grupo en el diccionario\n",
    "    dataframes_por_cluster[f'cluster{nombre_grupo}'] = datos_grupo.copy()\n",
    "\n",
    "# Ahora tienes un diccionario donde cada clave es el nombre del cluster (por ejemplo, 'cluster1', 'cluster2')\n",
    "# y cada valor es el DataFrame correspondiente."
   ]
  },
  {
   "cell_type": "code",
   "execution_count": 21,
   "id": "1200e535",
   "metadata": {},
   "outputs": [
    {
     "name": "stdout",
     "output_type": "stream",
     "text": [
      "          0         1         2             3             4             5  \\\n",
      "0  0.294397  0.294397  0.882400  2.337983e-01  2.337983e-01  8.722997e-01   \n",
      "2  0.003922  0.003922  0.003922  3.922088e-03  3.922088e-03  3.922088e-03   \n",
      "3  0.000000  0.000000  0.000000  2.362795e-07  2.362795e-07  2.362795e-07   \n",
      "4  0.006267  0.006267  0.006267  3.501740e-02  3.501740e-02  3.501740e-02   \n",
      "5  0.082353  0.082353  0.082353  8.235294e-02  8.235294e-02  8.235294e-02   \n",
      "\n",
      "          6         7         8         9  ...     10792     10793     10794  \\\n",
      "0  0.225306  0.225306  0.870884  0.101153  ...  0.581171  0.930195  0.380181   \n",
      "2  0.003924  0.003924  0.003924  0.003922  ...  0.003922  0.003922  0.003922   \n",
      "3  0.000205  0.000205  0.000205  0.002745  ...  0.012252  0.012252  0.006594   \n",
      "4  0.039491  0.039491  0.039491  0.039236  ...  0.250902  0.250902  0.054004   \n",
      "5  0.082353  0.082353  0.082353  0.082351  ...  0.082353  0.082353  0.082272   \n",
      "\n",
      "      10795     10796     10797     10798     10799  target  Cluster_asignado  \n",
      "0  0.380181  0.896697  0.183274  0.183274  0.863879       1                 0  \n",
      "2  0.003922  0.003922  0.003922  0.003922  0.003922       1                 0  \n",
      "3  0.006594  0.006594  0.005555  0.005555  0.005555       1                 0  \n",
      "4  0.054004  0.054004  0.000419  0.000419  0.000419       1                 0  \n",
      "5  0.082272  0.082272  0.079069  0.079069  0.079069       1                 0  \n",
      "\n",
      "[5 rows x 10802 columns]\n"
     ]
    }
   ],
   "source": [
    "# Acceder al DataFrame del cluster 0\n",
    "cluster_0 = dataframes_por_cluster['cluster0']\n",
    "cluster_1 = dataframes_por_cluster['cluster1']\n",
    "#cluster_2 = dataframes_por_cluster['cluster2']\n",
    "# Ahora puedes trabajar con el DataFrame 'cluster_0' como desees\n",
    "print(cluster_0.head())  # Por ejemplo, mostrar las primeras filas del DataFrame\n"
   ]
  },
  {
   "cell_type": "code",
   "execution_count": 22,
   "id": "f936763b",
   "metadata": {},
   "outputs": [
    {
     "name": "stdout",
     "output_type": "stream",
     "text": [
      "1      1\n",
      "11     1\n",
      "12     1\n",
      "15     1\n",
      "26     1\n",
      "      ..\n",
      "453    0\n",
      "454    0\n",
      "455    0\n",
      "456    0\n",
      "458    0\n",
      "Name: target, Length: 251, dtype: int64\n"
     ]
    }
   ],
   "source": [
    "# Extraer la columna 'target' del DataFrame del cluster 0\n",
    "target_0 = cluster_0['target']\n",
    "target_1 = cluster_1['target']\n",
    "#target_2 = cluster_2['target']\n",
    "# Mostrar el vector 'target_cluster_0'\n",
    "print(target_1)\n"
   ]
  },
  {
   "cell_type": "code",
   "execution_count": 23,
   "id": "5055773f",
   "metadata": {},
   "outputs": [
    {
     "name": "stdout",
     "output_type": "stream",
     "text": [
      "            0             1             2             3             4      \\\n",
      "1    1.558717e-01  1.558717e-01  8.593119e-01  1.501174e-01  1.501174e-01   \n",
      "11   1.822505e-01  1.822505e-01  1.822505e-01  1.494551e-01  1.494551e-01   \n",
      "12   3.070233e-10  3.070233e-10  3.070233e-10  1.137725e-07  1.137725e-07   \n",
      "15   1.734627e-02  1.734627e-02  1.734627e-02  3.361760e-04  3.361760e-04   \n",
      "26   1.175058e-01  1.175058e-01  1.175058e-01  1.180849e-01  1.180849e-01   \n",
      "..            ...           ...           ...           ...           ...   \n",
      "453  2.507959e-01  2.507959e-01  2.507959e-01  2.438239e-01  2.438239e-01   \n",
      "454  3.413418e-01  3.413418e-01  3.413418e-01  3.899606e-01  3.899606e-01   \n",
      "455  4.345793e-01  4.375129e-01  4.201754e-01  4.214725e-01  4.243916e-01   \n",
      "456  2.206208e-01  2.206208e-01  2.206208e-01  2.564090e-01  2.564090e-01   \n",
      "458  7.995999e-02  1.116595e-01  1.379004e-01  1.257885e-01  1.272496e-01   \n",
      "\n",
      "            5             6             7             8         9      ...  \\\n",
      "1    8.583529e-01  1.493524e-01  1.493524e-01  8.582254e-01  0.148679  ...   \n",
      "11   1.494551e-01  1.014353e-01  1.014353e-01  1.014353e-01  0.134160  ...   \n",
      "12   1.137725e-07  6.632545e-06  6.632545e-06  6.632545e-06  0.000119  ...   \n",
      "15   3.361760e-04  2.287577e-08  2.287577e-08  2.287577e-08  0.000009  ...   \n",
      "26   1.180849e-01  1.205058e-01  1.205058e-01  1.205058e-01  0.126297  ...   \n",
      "..            ...           ...           ...           ...       ...  ...   \n",
      "453  2.438239e-01  2.627853e-01  2.627853e-01  2.627853e-01  0.322503  ...   \n",
      "454  3.899606e-01  4.112786e-01  4.112786e-01  4.112786e-01  0.411966  ...   \n",
      "455  4.052698e-01  4.139513e-01  4.168570e-01  3.960596e-01  0.426766  ...   \n",
      "456  2.564090e-01  2.687324e-01  2.687324e-01  2.687324e-01  0.258153  ...   \n",
      "458  1.286547e-01  1.489730e-01  1.477955e-01  1.467375e-01  0.175293  ...   \n",
      "\n",
      "        10790     10791     10792     10793     10794     10795     10796  \\\n",
      "1    0.899282  0.554280  0.554280  0.925713  0.593826  0.593826  0.932304   \n",
      "11   0.494925  0.383239  0.383239  0.383239  0.299697  0.299697  0.299697   \n",
      "12   0.701304  0.688236  0.688236  0.688236  0.664676  0.664676  0.664676   \n",
      "15   0.119631  0.018949  0.018949  0.018949  0.043293  0.043293  0.043293   \n",
      "26   0.060212  0.060796  0.060796  0.060796  0.060911  0.060911  0.060911   \n",
      "..        ...       ...       ...       ...       ...       ...       ...   \n",
      "453  0.311376  0.199082  0.199082  0.199082  0.159394  0.159394  0.159394   \n",
      "454  0.887742  0.907699  0.907699  0.907699  0.903960  0.903960  0.903960   \n",
      "455  0.761443  0.696624  0.696624  0.696624  0.605376  0.605376  0.605376   \n",
      "456  0.048063  0.048080  0.048080  0.048080  0.046430  0.046430  0.046430   \n",
      "458  0.546940  0.596681  0.596681  0.596681  0.720440  0.720440  0.720440   \n",
      "\n",
      "        10797     10798     10799  \n",
      "1    0.597148  0.597148  0.932858  \n",
      "11   0.244786  0.244786  0.244786  \n",
      "12   0.595632  0.595632  0.595632  \n",
      "15   0.269656  0.269656  0.269656  \n",
      "26   0.128894  0.128894  0.128894  \n",
      "..        ...       ...       ...  \n",
      "453  0.143891  0.143891  0.143891  \n",
      "454  0.870985  0.870985  0.870985  \n",
      "455  0.374253  0.374253  0.374253  \n",
      "456  0.042482  0.042482  0.042482  \n",
      "458  0.681562  0.681562  0.681562  \n",
      "\n",
      "[251 rows x 10800 columns]\n"
     ]
    }
   ],
   "source": [
    "# Eliminar las columnas 'target' y 'Cluster_asignado' del DataFrame cluster_0\n",
    "cluster_0 = cluster_0.drop(columns=['target', 'Cluster_asignado'])\n",
    "cluster_1 = cluster_1.drop(columns=['target', 'Cluster_asignado'])\n",
    "#cluster_2 = cluster_2.drop(columns=['target', 'Cluster_asignado'])\n",
    "# Mostrar el DataFrame cluster_0_sin_target\n",
    "print(cluster_1)\n"
   ]
  },
  {
   "cell_type": "markdown",
   "id": "5c7a4b68-4f6c-434d-9de9-b77b65a9b7df",
   "metadata": {},
   "source": [
    "## 1.2.-Divido"
   ]
  },
  {
   "cell_type": "code",
   "execution_count": 24,
   "id": "ff2f2a4d",
   "metadata": {},
   "outputs": [],
   "source": [
    "import random\n",
    "\n",
    "# Establecer la semilla\n",
    "random.seed(42)"
   ]
  },
  {
   "cell_type": "code",
   "execution_count": 25,
   "id": "1553de03",
   "metadata": {},
   "outputs": [
    {
     "name": "stdout",
     "output_type": "stream",
     "text": [
      "Datos divididos con éxito.\n"
     ]
    }
   ],
   "source": [
    "# División en datos de entrenamiento (70%) y datos restantes (30%)\n",
    "trainX2,testX2, y_train, y_test = train_test_split(cluster_0, target_0, test_size=0.20, random_state=77, stratify=target_0)\n",
    "\n",
    "\n",
    "print('Datos divididos con éxito.')"
   ]
  },
  {
   "cell_type": "code",
   "execution_count": 26,
   "id": "a721b4df",
   "metadata": {},
   "outputs": [
    {
     "data": {
      "text/plain": [
       "208"
      ]
     },
     "execution_count": 26,
     "metadata": {},
     "output_type": "execute_result"
    }
   ],
   "source": [
    "len(cluster_0)"
   ]
  },
  {
   "cell_type": "code",
   "execution_count": 27,
   "id": "d318e29e",
   "metadata": {},
   "outputs": [
    {
     "name": "stdout",
     "output_type": "stream",
     "text": [
      "42\n",
      "166\n"
     ]
    }
   ],
   "source": [
    "print(len(y_test))\n",
    "print(len(y_train))"
   ]
  },
  {
   "cell_type": "markdown",
   "id": "13ce1846-bba3-4bd1-85aa-833da63ed8cb",
   "metadata": {},
   "source": [
    "# 4.- SVM lineal"
   ]
  },
  {
   "cell_type": "code",
   "execution_count": 28,
   "id": "59d5be2f-e518-44c6-8682-3f7dd3ad9bd7",
   "metadata": {},
   "outputs": [],
   "source": [
    "from sklearn.model_selection import GridSearchCV, KFold\n",
    "from sklearn.svm import LinearSVC\n",
    "from sklearn.preprocessing import StandardScaler\n",
    "from sklearn.pipeline import Pipeline\n",
    "\n",
    "# Supongamos que x1_train, y1_train son tus datos de entrenamiento\n",
    "\n",
    "# Definir el espacio de búsqueda para los hiperparámetros del clasificador\n",
    "param_grid = {\n",
    "    'C': [0.0001,0.001,0.01, 0.1, 1]\n",
    "}\n",
    "#0.01, 0.1, 1, 10, 100\n",
    "# Definir el clasificador (SVC) directamente sin pipeline\n",
    "classifier = LinearSVC()\n",
    "cv = KFold(n_splits=3, shuffle=True, random_state=42)\n",
    "scoring = \"f1\"\n",
    "# Crear un objeto GridSearchCV que realice el ajuste de hiperparámetros\n",
    "grid_search = GridSearchCV(classifier, param_grid, cv=cv, scoring=scoring, n_jobs=-1)\n"
   ]
  },
  {
   "cell_type": "code",
   "execution_count": 29,
   "id": "75c60e43",
   "metadata": {},
   "outputs": [
    {
     "data": {
      "text/html": [
       "<style>#sk-container-id-1 {color: black;background-color: white;}#sk-container-id-1 pre{padding: 0;}#sk-container-id-1 div.sk-toggleable {background-color: white;}#sk-container-id-1 label.sk-toggleable__label {cursor: pointer;display: block;width: 100%;margin-bottom: 0;padding: 0.3em;box-sizing: border-box;text-align: center;}#sk-container-id-1 label.sk-toggleable__label-arrow:before {content: \"▸\";float: left;margin-right: 0.25em;color: #696969;}#sk-container-id-1 label.sk-toggleable__label-arrow:hover:before {color: black;}#sk-container-id-1 div.sk-estimator:hover label.sk-toggleable__label-arrow:before {color: black;}#sk-container-id-1 div.sk-toggleable__content {max-height: 0;max-width: 0;overflow: hidden;text-align: left;background-color: #f0f8ff;}#sk-container-id-1 div.sk-toggleable__content pre {margin: 0.2em;color: black;border-radius: 0.25em;background-color: #f0f8ff;}#sk-container-id-1 input.sk-toggleable__control:checked~div.sk-toggleable__content {max-height: 200px;max-width: 100%;overflow: auto;}#sk-container-id-1 input.sk-toggleable__control:checked~label.sk-toggleable__label-arrow:before {content: \"▾\";}#sk-container-id-1 div.sk-estimator input.sk-toggleable__control:checked~label.sk-toggleable__label {background-color: #d4ebff;}#sk-container-id-1 div.sk-label input.sk-toggleable__control:checked~label.sk-toggleable__label {background-color: #d4ebff;}#sk-container-id-1 input.sk-hidden--visually {border: 0;clip: rect(1px 1px 1px 1px);clip: rect(1px, 1px, 1px, 1px);height: 1px;margin: -1px;overflow: hidden;padding: 0;position: absolute;width: 1px;}#sk-container-id-1 div.sk-estimator {font-family: monospace;background-color: #f0f8ff;border: 1px dotted black;border-radius: 0.25em;box-sizing: border-box;margin-bottom: 0.5em;}#sk-container-id-1 div.sk-estimator:hover {background-color: #d4ebff;}#sk-container-id-1 div.sk-parallel-item::after {content: \"\";width: 100%;border-bottom: 1px solid gray;flex-grow: 1;}#sk-container-id-1 div.sk-label:hover label.sk-toggleable__label {background-color: #d4ebff;}#sk-container-id-1 div.sk-serial::before {content: \"\";position: absolute;border-left: 1px solid gray;box-sizing: border-box;top: 0;bottom: 0;left: 50%;z-index: 0;}#sk-container-id-1 div.sk-serial {display: flex;flex-direction: column;align-items: center;background-color: white;padding-right: 0.2em;padding-left: 0.2em;position: relative;}#sk-container-id-1 div.sk-item {position: relative;z-index: 1;}#sk-container-id-1 div.sk-parallel {display: flex;align-items: stretch;justify-content: center;background-color: white;position: relative;}#sk-container-id-1 div.sk-item::before, #sk-container-id-1 div.sk-parallel-item::before {content: \"\";position: absolute;border-left: 1px solid gray;box-sizing: border-box;top: 0;bottom: 0;left: 50%;z-index: -1;}#sk-container-id-1 div.sk-parallel-item {display: flex;flex-direction: column;z-index: 1;position: relative;background-color: white;}#sk-container-id-1 div.sk-parallel-item:first-child::after {align-self: flex-end;width: 50%;}#sk-container-id-1 div.sk-parallel-item:last-child::after {align-self: flex-start;width: 50%;}#sk-container-id-1 div.sk-parallel-item:only-child::after {width: 0;}#sk-container-id-1 div.sk-dashed-wrapped {border: 1px dashed gray;margin: 0 0.4em 0.5em 0.4em;box-sizing: border-box;padding-bottom: 0.4em;background-color: white;}#sk-container-id-1 div.sk-label label {font-family: monospace;font-weight: bold;display: inline-block;line-height: 1.2em;}#sk-container-id-1 div.sk-label-container {text-align: center;}#sk-container-id-1 div.sk-container {/* jupyter's `normalize.less` sets `[hidden] { display: none; }` but bootstrap.min.css set `[hidden] { display: none !important; }` so we also need the `!important` here to be able to override the default hidden behavior on the sphinx rendered scikit-learn.org. See: https://github.com/scikit-learn/scikit-learn/issues/21755 */display: inline-block !important;position: relative;}#sk-container-id-1 div.sk-text-repr-fallback {display: none;}</style><div id=\"sk-container-id-1\" class=\"sk-top-container\"><div class=\"sk-text-repr-fallback\"><pre>GridSearchCV(cv=KFold(n_splits=3, random_state=42, shuffle=True),\n",
       "             estimator=LinearSVC(), n_jobs=-1,\n",
       "             param_grid={&#x27;C&#x27;: [0.0001, 0.001, 0.01, 0.1, 1]}, scoring=&#x27;f1&#x27;)</pre><b>In a Jupyter environment, please rerun this cell to show the HTML representation or trust the notebook. <br />On GitHub, the HTML representation is unable to render, please try loading this page with nbviewer.org.</b></div><div class=\"sk-container\" hidden><div class=\"sk-item sk-dashed-wrapped\"><div class=\"sk-label-container\"><div class=\"sk-label sk-toggleable\"><input class=\"sk-toggleable__control sk-hidden--visually\" id=\"sk-estimator-id-1\" type=\"checkbox\" ><label for=\"sk-estimator-id-1\" class=\"sk-toggleable__label sk-toggleable__label-arrow\">GridSearchCV</label><div class=\"sk-toggleable__content\"><pre>GridSearchCV(cv=KFold(n_splits=3, random_state=42, shuffle=True),\n",
       "             estimator=LinearSVC(), n_jobs=-1,\n",
       "             param_grid={&#x27;C&#x27;: [0.0001, 0.001, 0.01, 0.1, 1]}, scoring=&#x27;f1&#x27;)</pre></div></div></div><div class=\"sk-parallel\"><div class=\"sk-parallel-item\"><div class=\"sk-item\"><div class=\"sk-label-container\"><div class=\"sk-label sk-toggleable\"><input class=\"sk-toggleable__control sk-hidden--visually\" id=\"sk-estimator-id-2\" type=\"checkbox\" ><label for=\"sk-estimator-id-2\" class=\"sk-toggleable__label sk-toggleable__label-arrow\">estimator: LinearSVC</label><div class=\"sk-toggleable__content\"><pre>LinearSVC()</pre></div></div></div><div class=\"sk-serial\"><div class=\"sk-item\"><div class=\"sk-estimator sk-toggleable\"><input class=\"sk-toggleable__control sk-hidden--visually\" id=\"sk-estimator-id-3\" type=\"checkbox\" ><label for=\"sk-estimator-id-3\" class=\"sk-toggleable__label sk-toggleable__label-arrow\">LinearSVC</label><div class=\"sk-toggleable__content\"><pre>LinearSVC()</pre></div></div></div></div></div></div></div></div></div></div>"
      ],
      "text/plain": [
       "GridSearchCV(cv=KFold(n_splits=3, random_state=42, shuffle=True),\n",
       "             estimator=LinearSVC(), n_jobs=-1,\n",
       "             param_grid={'C': [0.0001, 0.001, 0.01, 0.1, 1]}, scoring='f1')"
      ]
     },
     "execution_count": 29,
     "metadata": {},
     "output_type": "execute_result"
    }
   ],
   "source": [
    "grid_search.fit(trainX2, y_train)"
   ]
  },
  {
   "cell_type": "code",
   "execution_count": 30,
   "id": "ae713e8b",
   "metadata": {},
   "outputs": [
    {
     "name": "stdout",
     "output_type": "stream",
     "text": [
      "Mejores Parámetros: {'C': 0.01}\n",
      "Mejor Score F1: 0.722\n"
     ]
    }
   ],
   "source": [
    "# Imprimir los mejores parámetros encontrados y el mejor score\n",
    "print(\"Mejores Parámetros:\", grid_search.best_params_)\n",
    "print(\"Mejor Score F1:\", round(grid_search.best_score_,3))"
   ]
  },
  {
   "cell_type": "markdown",
   "id": "2a992cd4",
   "metadata": {},
   "source": [
    "ejores Parámetros: {'C': 0.01}\n",
    "Mejor Score F1: 0.7350088183421518\n",
    "Los mejores hiperparámetros son: {'C': 0.01}\n",
    "La puntuación de la validación cruzada es: 0.74"
   ]
  },
  {
   "cell_type": "markdown",
   "id": "a6421039",
   "metadata": {},
   "source": [
    "Mejores Parámetros: {'C': 0.01}\n",
    "Mejor Score F1: 0.7350088183421518\n",
    "Los mejores hiperparámetros son: {'C': 0.01}\n",
    "La puntuación de la validación cruzada es: 0.74"
   ]
  },
  {
   "cell_type": "markdown",
   "id": "6d8c6772",
   "metadata": {},
   "source": [
    "## 4.1.- Evaluo el modelo"
   ]
  },
  {
   "cell_type": "code",
   "execution_count": 31,
   "id": "1afdd8db-5857-456c-835d-d32c678b6367",
   "metadata": {},
   "outputs": [],
   "source": [
    "from sklearn.metrics import f1_score"
   ]
  },
  {
   "cell_type": "code",
   "execution_count": 44,
   "id": "49f8e327-539a-4f96-81ca-cd4c2669825e",
   "metadata": {},
   "outputs": [
    {
     "name": "stdout",
     "output_type": "stream",
     "text": [
      "Precisión en el conjunto de prueba: 0.8823529411764706\n"
     ]
    },
    {
     "ename": "NameError",
     "evalue": "name 'best_params' is not defined",
     "output_type": "error",
     "traceback": [
      "\u001b[1;31m---------------------------------------------------------------------------\u001b[0m",
      "\u001b[1;31mNameError\u001b[0m                                 Traceback (most recent call last)",
      "Cell \u001b[1;32mIn[44], line 5\u001b[0m\n\u001b[0;32m      3\u001b[0m \u001b[38;5;28mprint\u001b[39m(\u001b[38;5;124m'\u001b[39m\u001b[38;5;124mPrecisión en el conjunto de prueba:\u001b[39m\u001b[38;5;124m'\u001b[39m, f1_score(y_test, y_pred))\n\u001b[0;32m      4\u001b[0m \u001b[38;5;66;03m# Imprimir los mejores hiperparámetros encontrados\u001b[39;00m\n\u001b[1;32m----> 5\u001b[0m \u001b[38;5;28mprint\u001b[39m(\u001b[38;5;124mf\u001b[39m\u001b[38;5;124m\"\u001b[39m\u001b[38;5;124mEl modelo entrenado con todos los datos fue: \u001b[39m\u001b[38;5;132;01m{\u001b[39;00mbest_params\u001b[38;5;132;01m}\u001b[39;00m\u001b[38;5;124m\"\u001b[39m)\n",
      "\u001b[1;31mNameError\u001b[0m: name 'best_params' is not defined"
     ]
    }
   ],
   "source": [
    "y_pred = grid_search.best_estimator_.predict(testX2)\n",
    "# Calcula e imprime la precisión del modelo en el conjunto de prueba\n",
    "print('Precisión en el conjunto de prueba:', f1_score(y_test, y_pred))\n",
    "# Imprimir los mejores hiperparámetros encontrados\n",
    "print(f\"El modelo entrenado con todos los datos fue: {best_params}\")"
   ]
  },
  {
   "cell_type": "markdown",
   "id": "d8c80a7c",
   "metadata": {},
   "source": [
    "## 4.2.- Matriz de confusión"
   ]
  },
  {
   "cell_type": "code",
   "execution_count": 45,
   "id": "e4dd084e-edac-4d2a-9491-d6ad97c590dc",
   "metadata": {},
   "outputs": [
    {
     "data": {
      "image/png": "[encoded data removed]",
      "text/plain": [
       "<Figure size 640x480 with 2 Axes>"
      ]
     },
     "metadata": {},
     "output_type": "display_data"
    }
   ],
   "source": [
    "# Crear el DataFrame de la matriz de confusión\n",
    "cf_matrix = confusion_matrix(y_test,y_pred)\n",
    "\n",
    "group_counts = [\"{0:0.0f}\".format(value) for value in cf_matrix.flatten()]\n",
    "group_percentages = [\"{0:.2%}\".format(value) for value in cf_matrix.flatten()/np.sum(cf_matrix)]\n",
    "labels = [f\"{v1}\\n{v2}\" for v1, v2 in zip(group_counts, group_percentages)]\n",
    "labels = np.asarray(labels).reshape(cf_matrix.shape[0], cf_matrix.shape[1])\n",
    "\n",
    "# Crear el DataFrame de la matriz de confusión\n",
    "Confusion_Matrix = pd.DataFrame(cf_matrix, index=Categories, columns=Categories)\n",
    "\n",
    "# Graficar la matriz de confusión utilizando Seaborn\n",
    "sns.heatmap(Confusion_Matrix, annot=labels, annot_kws={'size': 12}, fmt='', cmap='Blues')\n",
    "plt.xlabel('Clase predicha')\n",
    "plt.ylabel('Clase real')\n",
    "plt.title('Matriz de confusión SVM lineal')\n",
    "plt.show()\n"
   ]
  },
  {
   "cell_type": "code",
   "execution_count": 46,
   "id": "6ad5a2a5",
   "metadata": {},
   "outputs": [
    {
     "data": {
      "text/plain": [
       "array([[23,  1],\n",
       "       [ 3, 15]], dtype=int64)"
      ]
     },
     "execution_count": 46,
     "metadata": {},
     "output_type": "execute_result"
    }
   ],
   "source": [
    "cf_matrix"
   ]
  },
  {
   "cell_type": "markdown",
   "id": "8d3b0412",
   "metadata": {},
   "source": [
    "## 4.3.- Métricas"
   ]
  },
  {
   "cell_type": "code",
   "execution_count": 47,
   "id": "e22014c0",
   "metadata": {},
   "outputs": [
    {
     "name": "stdout",
     "output_type": "stream",
     "text": [
      "Especificidad:\t0.96\n"
     ]
    }
   ],
   "source": [
    "from sklearn import metrics\n",
    "\n",
    "num_classes = 2\n",
    "\n",
    "# Calcular la especificidad para cada clase\n",
    "tn = cf_matrix[0, 0]\n",
    "fp = cf_matrix[0, 1]  # Falsos positivos en la clase 0\n",
    "specificity = tn / (tn + fp)\n",
    "\n",
    "\n",
    "# Imprimir los resultados\n",
    "print(\"Especificidad:\\t{:.2f}\".format(specificity))\n"
   ]
  },
  {
   "cell_type": "code",
   "execution_count": 48,
   "id": "6c7924da",
   "metadata": {},
   "outputs": [
    {
     "name": "stdout",
     "output_type": "stream",
     "text": [
      "              precision    recall  f1-score   support\n",
      "\n",
      "           0       0.88      0.96      0.92        24\n",
      "           1       0.94      0.83      0.88        18\n",
      "\n",
      "    accuracy                           0.90        42\n",
      "   macro avg       0.91      0.90      0.90        42\n",
      "weighted avg       0.91      0.90      0.90        42\n",
      "\n"
     ]
    }
   ],
   "source": [
    "report = classification_report(y_test, y_pred)\n",
    "print(report)\n"
   ]
  },
  {
   "cell_type": "markdown",
   "id": "f526012f",
   "metadata": {},
   "source": [
    "## 4.4.- Curva ROC"
   ]
  },
  {
   "cell_type": "code",
   "execution_count": 49,
   "id": "dde991f7",
   "metadata": {},
   "outputs": [
    {
     "ename": "NameError",
     "evalue": "name 'best_model' is not defined",
     "output_type": "error",
     "traceback": [
      "\u001b[1;31m---------------------------------------------------------------------------\u001b[0m",
      "\u001b[1;31mNameError\u001b[0m                                 Traceback (most recent call last)",
      "Cell \u001b[1;32mIn[49], line 5\u001b[0m\n\u001b[0;32m      2\u001b[0m \u001b[38;5;28;01mfrom\u001b[39;00m \u001b[38;5;21;01msklearn\u001b[39;00m\u001b[38;5;21;01m.\u001b[39;00m\u001b[38;5;21;01mmetrics\u001b[39;00m \u001b[38;5;28;01mimport\u001b[39;00m roc_curve, auc, roc_auc_score\n\u001b[0;32m      4\u001b[0m y_test_bin \u001b[38;5;241m=\u001b[39m label_binarize(y_test, classes\u001b[38;5;241m=\u001b[39mnp\u001b[38;5;241m.\u001b[39munique(y_test))\n\u001b[1;32m----> 5\u001b[0m y_scores \u001b[38;5;241m=\u001b[39m best_model\u001b[38;5;241m.\u001b[39mdecision_function(testX2)\n\u001b[0;32m      6\u001b[0m n_classes\u001b[38;5;241m=\u001b[39m\u001b[38;5;241m2\u001b[39m\n\u001b[0;32m      9\u001b[0m \u001b[38;5;66;03m# Calcular la curva ROC y el área bajo la curva (AUC)\u001b[39;00m\n",
      "\u001b[1;31mNameError\u001b[0m: name 'best_model' is not defined"
     ]
    }
   ],
   "source": [
    "from sklearn.preprocessing import label_binarize\n",
    "from sklearn.metrics import roc_curve, auc, roc_auc_score\n",
    "\n",
    "y_test_bin = label_binarize(y_test, classes=np.unique(y_test))\n",
    "y_scores = best_model.decision_function(testX2)\n",
    "n_classes=2\n",
    "\n",
    "\n",
    "# Calcular la curva ROC y el área bajo la curva (AUC)\n",
    "fpr, tpr, _ = roc_curve(y_test_bin, y_scores)\n",
    "roc_auc = auc(fpr, tpr)\n"
   ]
  },
  {
   "cell_type": "code",
   "execution_count": 50,
   "id": "17ed0629",
   "metadata": {},
   "outputs": [
    {
     "ename": "NameError",
     "evalue": "name 'best_model' is not defined",
     "output_type": "error",
     "traceback": [
      "\u001b[1;31m---------------------------------------------------------------------------\u001b[0m",
      "\u001b[1;31mNameError\u001b[0m                                 Traceback (most recent call last)",
      "Cell \u001b[1;32mIn[50], line 5\u001b[0m\n\u001b[0;32m      2\u001b[0m \u001b[38;5;28;01mfrom\u001b[39;00m \u001b[38;5;21;01msklearn\u001b[39;00m\u001b[38;5;21;01m.\u001b[39;00m\u001b[38;5;21;01mmetrics\u001b[39;00m \u001b[38;5;28;01mimport\u001b[39;00m roc_curve, auc, roc_auc_score\n\u001b[0;32m      4\u001b[0m y_test_bin \u001b[38;5;241m=\u001b[39m label_binarize(y_test, classes\u001b[38;5;241m=\u001b[39mnp\u001b[38;5;241m.\u001b[39munique(y_test))\n\u001b[1;32m----> 5\u001b[0m y_scores \u001b[38;5;241m=\u001b[39m best_model\u001b[38;5;241m.\u001b[39mdecision_function(testX2)\n\u001b[0;32m      6\u001b[0m n_classes\u001b[38;5;241m=\u001b[39m\u001b[38;5;241m2\u001b[39m\n\u001b[0;32m      9\u001b[0m \u001b[38;5;66;03m# Calcular la curva ROC y el área bajo la curva (AUC)\u001b[39;00m\n",
      "\u001b[1;31mNameError\u001b[0m: name 'best_model' is not defined"
     ]
    }
   ],
   "source": [
    "from sklearn.preprocessing import label_binarize\n",
    "from sklearn.metrics import roc_curve, auc, roc_auc_score\n",
    "\n",
    "y_test_bin = label_binarize(y_test, classes=np.unique(y_test))\n",
    "y_scores = best_model.decision_function(testX2)\n",
    "n_classes=2\n",
    "\n",
    "\n",
    "# Calcular la curva ROC y el área bajo la curva (AUC)\n",
    "fpr, tpr, _ = roc_curve(y_test_bin, y_scores)\n",
    "roc_auc = auc(fpr, tpr)\n",
    "\n",
    "# Graficar la curva ROC\n",
    "plt.figure()\n",
    "plt.plot(fpr, tpr, color='#5FBB68', lw=2, label='Curva ROC (AUC = %0.2f)' % roc_auc)\n",
    "plt.plot([0, 1], [0, 1], color='#3A7B8D', lw=2, linestyle='--')\n",
    "plt.xlim([0.0, 1.0])\n",
    "plt.ylim([0.0, 1.05])\n",
    "plt.xlabel('1- Especificidad')\n",
    "plt.ylabel('Sensibilidad')\n",
    "plt.title('Curva ROC')\n",
    "plt.legend(loc=\"lower right\")\n",
    "plt.savefig('curva_roc2.png')\n",
    "plt.show()\n"
   ]
  },
  {
   "cell_type": "markdown",
   "id": "3d7a97fd-962c-4cd8-9657-e537115ff0a5",
   "metadata": {},
   "source": [
    "# 5.- SVM NO LINEAL: Kernel lineal, cuadrático y gausiano"
   ]
  },
  {
   "cell_type": "code",
   "execution_count": 28,
   "id": "670f4a34-dcad-4850-bc75-c0166324621e",
   "metadata": {},
   "outputs": [],
   "source": [
    "from sklearn.svm import SVC\n",
    "from sklearn.model_selection import GridSearchCV, KFold\n",
    "from sklearn.svm import LinearSVC\n",
    "from sklearn.preprocessing import StandardScaler\n",
    "from sklearn.pipeline import Pipeline"
   ]
  },
  {
   "cell_type": "markdown",
   "id": "3871d9a3",
   "metadata": {},
   "source": [
    "## 5.1.- SVM Kernel lineal"
   ]
  },
  {
   "cell_type": "code",
   "execution_count": 29,
   "id": "6daae2e7",
   "metadata": {},
   "outputs": [],
   "source": [
    "param_grid_linear = [\n",
    "    {\n",
    "        \"C\":  [0.01, 0.1, 1, 10, 100],\n",
    "        \"kernel\": [\"linear\"]\n",
    "   }\n",
    "]\n",
    "#0.001,0.01, 0.1, 1,10"
   ]
  },
  {
   "cell_type": "code",
   "execution_count": 30,
   "id": "e9d1e3de",
   "metadata": {},
   "outputs": [],
   "source": [
    "from sklearn.model_selection import GridSearchCV, KFold\n",
    "from sklearn.svm import SVC\n",
    "\n",
    "# Definir métrica y mecanismos de evaluación interno\n",
    "cv = KFold(n_splits=3, shuffle=True, random_state=42)\n",
    "scoring = \"f1\"\n",
    "\n",
    "# Crear un objeto GridSearchCV que realice el ajuste de hiperparámetros para cada modelo\n",
    "\n",
    "# Modelo con kernel lineal\n",
    "pipeline_linear = SVC()\n",
    "grid_search_linear = GridSearchCV(pipeline_linear, param_grid_linear, cv=cv, scoring=scoring, n_jobs=-1)\n"
   ]
  },
  {
   "cell_type": "code",
   "execution_count": null,
   "id": "5ca09ab1",
   "metadata": {},
   "outputs": [],
   "source": [
    "grid_search_linear.fit(trainX2, y_train)"
   ]
  },
  {
   "cell_type": "code",
   "execution_count": null,
   "id": "c68de51b",
   "metadata": {},
   "outputs": [],
   "source": [
    "best_score_linear = grid_search_linear.best_score_\n",
    "best_params_linear = grid_search_linear.best_params_\n",
    "best_model_linear = grid_search_linear.best_estimator_"
   ]
  },
  {
   "cell_type": "code",
   "execution_count": null,
   "id": "e53eb880",
   "metadata": {},
   "outputs": [],
   "source": [
    "print(f\"El mejor F1-score obtenido en la validación interna fue: {best_score_linear:.3f}\")\n",
    "print(f\"Los mejores valores de los otros hiperparámetros fueron: {best_params_linear}\")\n",
    "print(f\"El mejor modelo fue: {best_model_linear}\")"
   ]
  },
  {
   "cell_type": "markdown",
   "id": "33e9e277",
   "metadata": {},
   "source": [
    "El mejor F1-score obtenido en la validación interna fue: 0.747\n",
    "Los mejores valores de los otros hiperparámetros fueron: {'C': 1, 'kernel': 'linear'}\n",
    "El mejor modelo fue: SVC(C=1, kernel='linear') con el 0.01 centrado"
   ]
  },
  {
   "cell_type": "markdown",
   "id": "879f22e6",
   "metadata": {},
   "source": [
    "## 5.3.- Evaluación SVM lineal"
   ]
  },
  {
   "cell_type": "code",
   "execution_count": null,
   "id": "784797c0",
   "metadata": {},
   "outputs": [],
   "source": [
    "# Usa el mejor modelo encontrado para hacer predicciones en el conjunto de prueba\n",
    "y_pred_linear = best_model_linear.predict(testX2)\n",
    "\n",
    "# Calcula e imprime la precisión del modelo en el conjunto de prueba\n",
    "print('Precisión en el conjunto de prueba:', f1_score(y_test, y_pred_linear))\n",
    "# Imprime el modelo entrenado\n",
    "print(\"El mejor modelo encontrado fue:\", best_model_linear)"
   ]
  },
  {
   "cell_type": "code",
   "execution_count": null,
   "id": "ac9ea5c3",
   "metadata": {},
   "outputs": [],
   "source": [
    "# Crear el DataFrame de la matriz de confusión\n",
    "cf_matrix_linear = confusion_matrix(y_test,y_pred_linear)\n",
    "\n",
    "group_counts = [\"{0:0.0f}\".format(value) for value in cf_matrix_linear.flatten()]\n",
    "group_percentages = [\"{0:.2%}\".format(value) for value in cf_matrix_linear.flatten()/np.sum(cf_matrix_linear)]\n",
    "labels = [f\"{v1}\\n{v2}\" for v1, v2 in zip(group_counts, group_percentages)]\n",
    "labels = np.asarray(labels).reshape(cf_matrix_linear.shape[0], cf_matrix_linear.shape[1])\n",
    "\n",
    "# Crear el DataFrame de la matriz de confusión\n",
    "Confusion_Matrix_linear = pd.DataFrame(cf_matrix_linear, index=Categories, columns=Categories)\n",
    "\n",
    "# Graficar la matriz de confusión utilizando Seaborn\n",
    "sns.heatmap(Confusion_Matrix_linear, annot=labels, annot_kws={'size': 12}, fmt='', cmap='Blues')\n",
    "plt.xlabel('Clase predicha')\n",
    "plt.ylabel('Clase real')\n",
    "plt.title('Matriz de confusión SVM Kenerl: lineal')\n",
    "plt.show()\n"
   ]
  },
  {
   "cell_type": "code",
   "execution_count": null,
   "id": "2628b449",
   "metadata": {},
   "outputs": [],
   "source": [
    "cf_matrix_linear"
   ]
  },
  {
   "cell_type": "code",
   "execution_count": null,
   "id": "6cfabf9f",
   "metadata": {},
   "outputs": [],
   "source": [
    "\n",
    "# Definir el número de clases\n",
    "num_classes = 2\n",
    "\n",
    "# Calcular la especificidad para cada clase\n",
    "tn = cf_matrix[0, 0]\n",
    "fp = cf_matrix[0, 1]  # Falsos positivos en la clase 0\n",
    "specificity = tn / (tn + fp)\n",
    "\n",
    "# Imprimir los resultados\n",
    "print(\"Especificidad:\\t{:.2f}\".format(specificity))\n",
    "  \n"
   ]
  },
  {
   "cell_type": "code",
   "execution_count": null,
   "id": "0de3217d",
   "metadata": {},
   "outputs": [],
   "source": [
    "report = classification_report(y_test, y_pred_linear,zero_division=0)\n",
    "print(report)"
   ]
  },
  {
   "cell_type": "code",
   "execution_count": null,
   "id": "7da78e1a",
   "metadata": {},
   "outputs": [],
   "source": [
    "y_test_bin = label_binarize(y_test, classes=np.unique(y_test))\n",
    "y_scores1 = best_model_linear.decision_function(testX2)\n",
    "n_classes=2\n",
    "\n",
    "# Calcular la curva ROC y el área bajo la curva (AUC)\n",
    "fpr1, tpr1, _ = roc_curve(y_test_bin, y_scores1)\n",
    "roc_auc1 = auc(fpr1, tpr1)\n",
    "\n",
    "# Graficar la curva ROC\n",
    "plt.figure()\n",
    "plt.plot(fpr1, tpr1, color='#5FBB68', lw=2, label='Curva ROC (AUC = %0.2f)' % roc_auc1)\n",
    "plt.plot([0, 1], [0, 1], color='#3A7B8D', lw=2, linestyle='--')\n",
    "plt.xlim([0.0, 1.0])\n",
    "plt.ylim([0.0, 1.05])\n",
    "plt.xlabel('1- Especificidad')\n",
    "plt.ylabel('Sensibilidad')\n",
    "plt.title('Curva ROC SVM Kenerl: lineal')\n",
    "plt.legend(loc=\"lower right\")\n",
    "plt.savefig('curva_roc3.png')\n",
    "plt.show()\n"
   ]
  },
  {
   "cell_type": "markdown",
   "id": "401ab69c",
   "metadata": {},
   "source": [
    "## 5.2.- SVM poly"
   ]
  },
  {
   "cell_type": "code",
   "execution_count": null,
   "id": "84147211-d3eb-4436-9d26-94b84c12f211",
   "metadata": {},
   "outputs": [],
   "source": [
    "param_grid_poly = [\n",
    "    {\n",
    "        \"C\":  [0.1, 1, 10, 100,1000],\n",
    "        \"kernel\": [\"poly\"],\n",
    "        \"degree\": [2],\n",
    "        \"coef0\": np.linspace(0, 1, 10)\n",
    "    }\n",
    "]\n",
    "#0.01, 0.1, 1, 10, 100"
   ]
  },
  {
   "cell_type": "code",
   "execution_count": null,
   "id": "d92aeb39",
   "metadata": {},
   "outputs": [],
   "source": [
    "pipeline_poly = SVC()\n",
    "grid_search_poly = GridSearchCV(pipeline_poly, param_grid_poly, cv=cv, scoring=scoring, n_jobs=-1)"
   ]
  },
  {
   "cell_type": "code",
   "execution_count": null,
   "id": "0cfa55cd",
   "metadata": {},
   "outputs": [],
   "source": [
    "grid_search_poly.fit(trainX2, y_train)"
   ]
  },
  {
   "cell_type": "code",
   "execution_count": null,
   "id": "80838a4c",
   "metadata": {},
   "outputs": [],
   "source": [
    "best_score_poly = grid_search_poly.best_score_\n",
    "best_params_poly = grid_search_poly.best_params_\n",
    "best_model_poly = grid_search_poly.best_estimator_"
   ]
  },
  {
   "cell_type": "code",
   "execution_count": null,
   "id": "6d5a3b48",
   "metadata": {},
   "outputs": [],
   "source": [
    "print(f\"El mejor F1-score obtenido en la validación interna fue: {best_score_poly:.3f}\")\n",
    "print(f\"Los mejores valores de los otros hiperparámetros fueron: {best_params_poly}\")\n",
    "print(f\"El mejor modelo fue: {best_model_poly}\")"
   ]
  },
  {
   "cell_type": "markdown",
   "id": "e1008eb7",
   "metadata": {},
   "source": [
    "El mejor F1-score obtenido en la validación interna fue: 0.764\n",
    "Los mejores valores de los otros hiperparámetros fueron: {'C': 10, 'coef0': 0.0, 'degree': 2, 'kernel': 'poly'}\n",
    "El mejor modelo fue: SVC(C=10, degree=2, kernel='poly')"
   ]
  },
  {
   "cell_type": "markdown",
   "id": "7a0371d1",
   "metadata": {},
   "source": [
    "### 5.2.1.- Evaluación SVM POLY"
   ]
  },
  {
   "cell_type": "code",
   "execution_count": null,
   "id": "53af88cd",
   "metadata": {},
   "outputs": [],
   "source": [
    "# Usa el mejor modelo encontrado para hacer predicciones en el conjunto de prueba\n",
    "y_pred_poly = best_model_poly.predict(testX2)\n",
    "\n",
    "# Calcula e imprime la precisión del modelo en el conjunto de prueba\n",
    "print('Precisión en el conjunto de prueba:', f1_score(y_test, y_pred_poly))\n",
    "# Imprime el modelo entrenado\n",
    "print(\"El mejor modelo encontrado fue:\", best_model_poly)"
   ]
  },
  {
   "cell_type": "code",
   "execution_count": null,
   "id": "9040c8c8",
   "metadata": {},
   "outputs": [],
   "source": [
    "# Crear el DataFrame de la matriz de confusión\n",
    "cf_matrix2 = confusion_matrix(y_test,y_pred_poly)\n",
    "\n",
    "group_counts = [\"{0:0.0f}\".format(value) for value in cf_matrix2.flatten()]\n",
    "group_percentages = [\"{0:.2%}\".format(value) for value in cf_matrix2.flatten()/np.sum(cf_matrix2)]\n",
    "labels = [f\"{v1}\\n{v2}\" for v1, v2 in zip(group_counts, group_percentages)]\n",
    "labels = np.asarray(labels).reshape(cf_matrix2.shape[0], cf_matrix2.shape[1])\n",
    "\n",
    "# Crear el DataFrame de la matriz de confusión\n",
    "Confusion_Matrix = pd.DataFrame(cf_matrix2, index=Categories, columns=Categories)\n",
    "\n",
    "# Graficar la matriz de confusión utilizando Seaborn\n",
    "sns.heatmap(Confusion_Matrix, annot=labels, annot_kws={'size': 12}, fmt='', cmap='Blues')\n",
    "plt.xlabel('Clase predicha')\n",
    "plt.ylabel('Clase real')\n",
    "plt.title('Matriz de confusión SVM Kenerl:polinómico')\n",
    "plt.show()\n"
   ]
  },
  {
   "cell_type": "code",
   "execution_count": null,
   "id": "6a0f68d6",
   "metadata": {},
   "outputs": [],
   "source": [
    "cf_matrix2"
   ]
  },
  {
   "cell_type": "code",
   "execution_count": null,
   "id": "bddf54c1",
   "metadata": {},
   "outputs": [],
   "source": [
    "from sklearn import metrics\n",
    "\n",
    "# Supongamos que ya tenemos la matriz de confusión (cf_matrix), Y_test y Y_test_pred definidas previamente\n",
    "\n",
    "# Definir el número de clases\n",
    "num_classes = 2\n",
    "# Calcular la especificidad para cada clase\n",
    "tn2 = cf_matrix2[0, 0]\n",
    "fp2 = cf_matrix2[0, 1]  # Falsos positivos en la clase 0\n",
    "specificity = tn2 / (tn2 + fp2)\n",
    "\n",
    "# Imprimir los resultados\n",
    "print(\"Especificidad:\\t{:.2f}\".format(specificity))\n"
   ]
  },
  {
   "cell_type": "code",
   "execution_count": null,
   "id": "7ed336e1",
   "metadata": {},
   "outputs": [],
   "source": [
    "report = classification_report(y_test, y_pred_poly,zero_division=0)\n",
    "print(report)"
   ]
  },
  {
   "cell_type": "markdown",
   "id": "52e58165",
   "metadata": {},
   "source": [
    "### 5.2.2.-Curva ROC POLY"
   ]
  },
  {
   "cell_type": "code",
   "execution_count": null,
   "id": "99fc7b89",
   "metadata": {},
   "outputs": [],
   "source": [
    "\n",
    "y_test_bin = label_binarize(y_test, classes=np.unique(y_test))\n",
    "y_scores2 = best_model_poly.decision_function(testX2)\n",
    "n_classes=2\n",
    "\n",
    "\n",
    "# Calcular la curva ROC y el área bajo la curva (AUC)\n",
    "fpr2, tpr2, _ = roc_curve(y_test_bin, y_scores2)\n",
    "roc_auc2 = auc(fpr2, tpr2)\n",
    "\n",
    "# Graficar la curva ROC\n",
    "plt.figure()\n",
    "plt.plot(fpr2, tpr2, color='#5FBB68', lw=2, label='Curva ROC (AUC = %0.2f)' % roc_auc2)\n",
    "plt.plot([0, 1], [0, 1], color='#3A7B8D', lw=2, linestyle='--')\n",
    "plt.xlim([0.0, 1.0])\n",
    "plt.ylim([0.0, 1.05])\n",
    "plt.xlabel('1- Especificidad')\n",
    "plt.ylabel('Sensibilidad')\n",
    "plt.title('Curva ROC SMV Kenerl: polinómico')\n",
    "plt.legend(loc=\"lower right\")\n",
    "plt.savefig('curva_roc4.png')\n",
    "plt.show()"
   ]
  },
  {
   "cell_type": "markdown",
   "id": "87570157",
   "metadata": {},
   "source": [
    "## 5.3.- SVM RBF"
   ]
  },
  {
   "cell_type": "code",
   "execution_count": null,
   "id": "014b1a2b",
   "metadata": {},
   "outputs": [],
   "source": [
    "param_grid_rbf = [\n",
    "       {\n",
    "        \"C\":  [0.1, 1, 10, 100,1000],\n",
    "        \"kernel\": [\"rbf\"],\n",
    "        \"gamma\": np.logspace(-2, 2, 10)\n",
    "    }\n",
    "]\n"
   ]
  },
  {
   "cell_type": "code",
   "execution_count": null,
   "id": "402e77fd",
   "metadata": {},
   "outputs": [],
   "source": [
    "pipeline_rbf = SVC()\n",
    "grid_search_rbf = GridSearchCV(pipeline_rbf, param_grid_rbf, cv=cv, scoring=scoring, n_jobs=-1)\n",
    "grid_search_rbf.fit(trainX2, y_train)\n"
   ]
  },
  {
   "cell_type": "code",
   "execution_count": null,
   "id": "6e3fee30",
   "metadata": {},
   "outputs": [],
   "source": [
    "best_score_rbf = grid_search_rbf.best_score_\n",
    "best_params_rbf = grid_search_rbf.best_params_\n",
    "best_model_rbf = grid_search_rbf.best_estimator_"
   ]
  },
  {
   "cell_type": "code",
   "execution_count": null,
   "id": "2075dfce",
   "metadata": {},
   "outputs": [],
   "source": [
    "print(f\"El mejor F1-score obtenido en la validación interna fue: {best_score_rbf:.3f}\")\n",
    "print(f\"Los mejores valores de los otros hiperparámetros fueron: {best_params_rbf}\")\n",
    "print(f\"El mejor modelo fue: {best_model_rbf}\")"
   ]
  },
  {
   "cell_type": "markdown",
   "id": "68aab162",
   "metadata": {},
   "source": [
    "El mejor F1-score obtenido en la validación interna fue: 0.574\n",
    "Los mejores valores de los otros hiperparámetros fueron: {'C': 10, 'gamma': 0.01, 'kernel': 'rbf'}\n",
    "El mejor modelo fue: SVC(C=10, gamma=0.01)"
   ]
  },
  {
   "cell_type": "markdown",
   "id": "943a2673",
   "metadata": {},
   "source": [
    "### 5.3.1.- Evaluación SVM RBF"
   ]
  },
  {
   "cell_type": "code",
   "execution_count": null,
   "id": "d0726599-ac7d-4119-b29e-440a5da0c4a9",
   "metadata": {},
   "outputs": [],
   "source": [
    "# Usa el mejor modelo encontrado para hacer predicciones en el conjunto de prueba\n",
    "y_pred_rbf = best_model_rbf.predict(testX2)\n",
    "\n",
    "# Calcula e imprime la precisión del modelo en el conjunto de prueba\n",
    "print('Precisión en el conjunto de test:', f1_score(y_test, y_pred_rbf))\n",
    "# Imprime el modelo entrenado\n",
    "print(\"El mejor modelo encontrado fue:\", best_model_rbf)"
   ]
  },
  {
   "cell_type": "code",
   "execution_count": null,
   "id": "7270b42b",
   "metadata": {},
   "outputs": [],
   "source": [
    "# Crear el DataFrame de la matriz de confusión\n",
    "cf_matrix3 = confusion_matrix(y_test,y_pred_rbf)\n",
    "\n",
    "group_counts = [\"{0:0.0f}\".format(value) for value in cf_matrix3.flatten()]\n",
    "group_percentages = [\"{0:.2%}\".format(value) for value in cf_matrix3.flatten()/np.sum(cf_matrix3)]\n",
    "labels = [f\"{v1}\\n{v2}\" for v1, v2 in zip(group_counts, group_percentages)]\n",
    "labels = np.asarray(labels).reshape(cf_matrix3.shape[0], cf_matrix3.shape[1])\n",
    "\n",
    "# Crear el DataFrame de la matriz de confusión\n",
    "Confusion_Matrix = pd.DataFrame(cf_matrix3, index=Categories, columns=Categories)\n",
    "\n",
    "# Graficar la matriz de confusión utilizando Seaborn\n",
    "sns.heatmap(Confusion_Matrix, annot=labels, annot_kws={'size': 12}, fmt='', cmap='Blues')\n",
    "plt.xlabel('Clase predicha')\n",
    "plt.ylabel('Clase real')\n",
    "plt.title('Matriz de confusión SVM Kenerl: gausiano')\n",
    "plt.show()"
   ]
  },
  {
   "cell_type": "code",
   "execution_count": null,
   "id": "ef16d0ce",
   "metadata": {},
   "outputs": [],
   "source": [
    "cf_matrix3"
   ]
  },
  {
   "cell_type": "code",
   "execution_count": null,
   "id": "20860760",
   "metadata": {},
   "outputs": [],
   "source": [
    "report = classification_report(y_test, y_pred_rbf, zero_division=0)\n",
    "print(report)"
   ]
  },
  {
   "cell_type": "code",
   "execution_count": null,
   "id": "0eff03cf",
   "metadata": {},
   "outputs": [],
   "source": [
    "# Definir el número de clases\n",
    "num_classes = 2\n",
    "\n",
    "# Calcular la especificidad para cada clase\n",
    "tn3 = cf_matrix3[0, 0]\n",
    "fp3 = cf_matrix3[0, 1]  # Falsos positivos en la clase 0\n",
    "specificity = tn3 / (tn3 + fp3)\n",
    "\n",
    "\n",
    "# Imprimir los resultados\n",
    "print(\"Especificidad:\\t{:.2f}\".format(specificity))\n",
    "   \n"
   ]
  },
  {
   "cell_type": "markdown",
   "id": "7fffec41",
   "metadata": {},
   "source": [
    "### 5.3.2.- Curva ROC RBF"
   ]
  },
  {
   "cell_type": "code",
   "execution_count": null,
   "id": "10ce3185",
   "metadata": {},
   "outputs": [],
   "source": [
    "y_test_bin = label_binarize(y_test, classes=np.unique(y_test))\n",
    "y_scores3 = best_model_rbf.decision_function(testX2)\n",
    "\n",
    "\n",
    "# Calcular la curva ROC y el área bajo la curva (AUC)\n",
    "fpr3, tpr3, _ = roc_curve(y_test_bin, y_scores3)\n",
    "roc_auc3 = auc(fpr3, tpr3)\n",
    "\n",
    "# Graficar la curva ROC\n",
    "plt.figure()\n",
    "plt.plot(fpr3, tpr3, color='#5FBB68', lw=2, label='Curva ROC (AUC = %0.2f)' % roc_auc3)\n",
    "plt.plot([0, 1], [0, 1], color='#3A7B8D', lw=2, linestyle='--')\n",
    "plt.xlim([0.0, 1.0])\n",
    "plt.ylim([0.0, 1.05])\n",
    "plt.xlabel('Sensibilidad')\n",
    "plt.ylabel('1- Especificidad')\n",
    "plt.title('Curva ROC SVM Kenerl:RBF')\n",
    "plt.legend(loc=\"lower right\")\n",
    "plt.savefig('curva_roc5.png')\n",
    "plt.show()"
   ]
  },
  {
   "cell_type": "markdown",
   "id": "49fac8f5",
   "metadata": {},
   "source": [
    "# 6.- Conclusiones"
   ]
  },
  {
   "cell_type": "markdown",
   "id": "07f2e360",
   "metadata": {},
   "source": [
    "## 6.1.- Conclusión SVM no lineal"
   ]
  },
  {
   "cell_type": "markdown",
   "id": "49be2e68",
   "metadata": {},
   "source": [
    "Resultados datos de entrenamiento"
   ]
  },
  {
   "cell_type": "code",
   "execution_count": null,
   "id": "2465a259",
   "metadata": {},
   "outputs": [],
   "source": [
    "# Crear un catálogo para almacenar los mejores puntajes y parámetros de cada modelo\n",
    "best_results = {\n",
    "    \"Modelo Lineal\": {\n",
    "        \"best_score\": best_score_linear,\n",
    "        \"best_params\": best_params_linear\n",
    "    },\n",
    "    \"Modelo Polinomial\": {\n",
    "        \"best_score\": best_score_poly,\n",
    "        \"best_params\": best_params_poly\n",
    "    },\n",
    "    \"Modelo RBF\": {\n",
    "        \"best_score\": best_score_rbf,\n",
    "        \"best_params\": best_params_rbf\n",
    "    }\n",
    "}\n",
    "\n",
    "# Imprimir el catálogo de mejores resultados para cada modelo\n",
    "for modelo, resultados in best_results.items():\n",
    "    print(f\"Modelo: {modelo}\")\n",
    "    print(f\"Mejor Puntaje: {resultados['best_score']:.3f}\")\n",
    "    print(f\"Mejores Parámetros: {resultados['best_params']}\")\n",
    "    print()\n"
   ]
  },
  {
   "cell_type": "markdown",
   "id": "98573178",
   "metadata": {},
   "source": [
    "Resultados datos de test"
   ]
  },
  {
   "cell_type": "code",
   "execution_count": null,
   "id": "36904286",
   "metadata": {},
   "outputs": [],
   "source": [
    "print('F1 en el conjunto de prueba linear:', round(f1_score(y_test, y_pred_linear), 4))\n",
    "print('F1 en el conjunto de prueba poly:', round(f1_score(y_test, y_pred_poly), 4))\n",
    "print('F1 en el conjunto de prueba rbf:', round(f1_score(y_test, y_pred_rbf), 4))"
   ]
  },
  {
   "cell_type": "code",
   "execution_count": null,
   "id": "1b7942df",
   "metadata": {},
   "outputs": [],
   "source": [
    "# Imprimir el AUC para cada modelo\n",
    "print(\"AUC para el modelo lineal:\", round(roc_auc1, 4))\n",
    "print(\"AUC para el modelo polinomial:\", round(roc_auc2, 4))\n",
    "print(\"AUC para el modelo RBF:\", round(roc_auc3, 4))"
   ]
  },
  {
   "cell_type": "markdown",
   "id": "32cef6b5",
   "metadata": {},
   "source": [
    "## 6.2.- Comparar SVM lineal vs SVM no lineal kernel lineal"
   ]
  },
  {
   "cell_type": "markdown",
   "id": "eb32c2c6",
   "metadata": {},
   "source": [
    "Resultados datos de entrenamiento"
   ]
  },
  {
   "cell_type": "code",
   "execution_count": null,
   "id": "b204727c",
   "metadata": {},
   "outputs": [],
   "source": [
    "print(\"Mejores Parámetros:\", grid_search.best_params_)\n",
    "print(\"Mejor Score F1:\", grid_search.best_score_)"
   ]
  },
  {
   "cell_type": "markdown",
   "id": "a2aa0ca6",
   "metadata": {},
   "source": [
    "Resultados datos de test"
   ]
  },
  {
   "cell_type": "code",
   "execution_count": null,
   "id": "d00b7146",
   "metadata": {},
   "outputs": [],
   "source": [
    "print('Precisión en el conjunto de prueba SVM lineal:', round(f1_score(y_test, y_pred),4))"
   ]
  },
  {
   "cell_type": "code",
   "execution_count": null,
   "id": "b3d573d5",
   "metadata": {},
   "outputs": [],
   "source": [
    "print(\"AUC para el modelo SVM lineal:\", round(roc_auc, 4))"
   ]
  },
  {
   "cell_type": "code",
   "execution_count": null,
   "id": "bd81d543",
   "metadata": {},
   "outputs": [],
   "source": [
    "import matplotlib.pyplot as plt\n",
    "\n",
    "# Crear una figura y ejes para los gráficos\n",
    "fig, ax = plt.subplots()\n",
    "\n",
    "# Trazar la primera curva ROC\n",
    "ax.plot(fpr1, tpr1, color='#73A4CA', lw=2, label='SVM Kernel: Lineal (AUC = %0.2f)' % roc_auc1)\n",
    "\n",
    "# Trazar la segunda curva ROC\n",
    "ax.plot(fpr2, tpr2, color='#5FBB68', lw=2, label='SVM Kernel: Polinómico (AUC = %0.2f)' % roc_auc2)\n",
    "\n",
    "# Trazar la tercera curva ROC\n",
    "ax.plot(fpr3, tpr3, color='#F9D23C', lw=2, label='SVM Kernel: RBF (AUC = %0.2f)' % roc_auc3)\n",
    "\n",
    "# Agregar la línea de referencia 45 grados\n",
    "ax.plot([0, 1], [0, 1], color='#3A7B8D', lw=2, linestyle='--')\n",
    "\n",
    "# Configurar los ejes y etiquetas\n",
    "ax.set_xlim([0.0, 1.0])\n",
    "ax.set_ylim([0.0, 1.05])\n",
    "ax.set_xlabel('1 - Especificidad')\n",
    "ax.set_ylabel('Sensibilidad')\n",
    "ax.set_title('Curvas ROC de SVM con diferentes Kernels')\n",
    "ax.legend(loc=\"lower right\")\n",
    "\n",
    "# Guardar la figura como imagen\n",
    "plt.savefig('curvas_roc.png')\n",
    "\n",
    "# Mostrar la figura\n",
    "plt.show()\n"
   ]
  },
  {
   "cell_type": "code",
   "execution_count": null,
   "id": "750c98ec",
   "metadata": {},
   "outputs": [],
   "source": [
    "import matplotlib.pyplot as plt\n",
    "from sklearn.preprocessing import label_binarize\n",
    "from sklearn.metrics import roc_curve, auc\n",
    "\n",
    "# Crear una figura y ejes para los gráficos\n",
    "fig, ax = plt.subplots()\n",
    "\n",
    "# Trazar las curvas ROC de los diferentes kernels SVM\n",
    "ax.plot(fpr1, tpr1, color='#73A4CA', lw=2, label='SVM Kernel: Lineal (AUC = %0.2f)' % roc_auc1)\n",
    "ax.plot(fpr2, tpr2, color='#5FBB68', lw=2, label='SVM Kernel: Polinómico (AUC = %0.2f)' % roc_auc2)\n",
    "ax.plot(fpr3, tpr3, color='#F9D23C', lw=2, label='SVM Kernel: RBF (AUC = %0.2f)' % roc_auc3)\n",
    "\n",
    "# Trazar la curva ROC del modelo específico\n",
    "ax.plot(fpr, tpr, color='#F9A729', lw=2, label='Curva ROC SVM lineal (AUC = %0.2f)' % roc_auc)\n",
    "\n",
    "# Agregar la línea de referencia 45 grados\n",
    "ax.plot([0, 1], [0, 1], color='#3A7B8D', lw=2, linestyle='--')\n",
    "\n",
    "# Configurar los ejes y etiquetas\n",
    "ax.set_xlim([0.0, 1.0])\n",
    "ax.set_ylim([0.0, 1.05])\n",
    "ax.set_xlabel('1 - Especificidad')\n",
    "ax.set_ylabel('Sensibilidad')\n",
    "ax.set_title('Curvas ROC de SVM con diferentes Kernels y Curva ROC del Modelo')\n",
    "ax.legend(loc=\"lower right\")\n",
    "\n",
    "# Guardar la figura como imagen\n",
    "plt.savefig('curvas_roc.png')\n",
    "\n",
    "# Mostrar la figura\n",
    "plt.show()\n"
   ]
  },
  {
   "cell_type": "code",
   "execution_count": null,
   "id": "7742add8",
   "metadata": {},
   "outputs": [],
   "source": [
    "import matplotlib.pyplot as plt\n",
    "from sklearn.preprocessing import label_binarize\n",
    "from sklearn.metrics import roc_curve, auc\n",
    "\n",
    "# Crear una figura y ejes para los gráficos\n",
    "fig, ax = plt.subplots()\n",
    "\n",
    "# Trazar las curvas ROC de los diferentes kernels SVM\n",
    "ax.plot(fpr, tpr, color='#F9A729', lw=2, label='SVM lineal (AUC = %0.2f)' % roc_auc)\n",
    "ax.plot(fpr1, tpr1, color='#73A4CA', lw=2, label='SVM Kernel: Lineal (AUC = %0.2f)' % roc_auc1)\n",
    "ax.plot(fpr2, tpr2, color='#5FBB68', lw=2, label='SVM Kernel: Polinómico (AUC = %0.2f)' % roc_auc2)\n",
    "ax.plot(fpr3, tpr3, color='#F9D23C', lw=2, label='SVM Kernel: RBF (AUC = %0.2f)' % roc_auc3)\n",
    "\n",
    "# Trazar la curva ROC del modelo específico\n",
    "\n",
    "\n",
    "# Agregar la línea de referencia 45 grados\n",
    "ax.plot([0, 1], [0, 1], color='#3A7B8D', lw=2, linestyle='--')\n",
    "\n",
    "# Configurar los ejes y etiquetas\n",
    "ax.set_xlim([0.0, 1.0])\n",
    "ax.set_ylim([0.0, 1.05])\n",
    "ax.set_xlabel('1 - Especificidad')\n",
    "ax.set_ylabel('Sensibilidad')\n",
    "ax.set_title('Curvas ROC de SVM lineal y SVM con diferentes Kernels ')\n",
    "ax.legend(loc=\"lower right\")\n",
    "\n",
    "# Guardar la figura como imagen\n",
    "plt.savefig('curvas_roc.png')\n",
    "\n",
    "# Mostrar la figura\n",
    "plt.show()\n"
   ]
  }
 ],
 "metadata": {
  "kernelspec": {
   "display_name": "Python 3 (ipykernel)",
   "language": "python",
   "name": "python3"
  },
  "language_info": {
   "codemirror_mode": {
    "name": "ipython",
    "version": 3
   },
   "file_extension": ".py",
   "mimetype": "text/x-python",
   "name": "python",
   "nbconvert_exporter": "python",
   "pygments_lexer": "ipython3",
   "version": "3.11.7"
  }
 },
 "nbformat": 4,
 "nbformat_minor": 5
}
